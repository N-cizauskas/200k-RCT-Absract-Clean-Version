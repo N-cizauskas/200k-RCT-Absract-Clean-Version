{
 "cells": [
  {
   "cell_type": "code",
   "execution_count": 1,
   "id": "9e960702-3591-4c2a-a206-1a7953162f95",
   "metadata": {},
   "outputs": [],
   "source": [
    "import pandas as pd\n",
    "import numpy as np"
   ]
  },
  {
   "cell_type": "code",
   "execution_count": 2,
   "id": "a1ce05df-e6d8-425f-97cc-347c2a360dc6",
   "metadata": {},
   "outputs": [],
   "source": [
    "#!pip install bagofwords"
   ]
  },
  {
   "cell_type": "code",
   "execution_count": 3,
   "id": "fb1972b5-eba5-4a7e-818a-67b16ab4af8f",
   "metadata": {},
   "outputs": [],
   "source": [
    "from sklearn.feature_extraction.text import CountVectorizer, TfidfVectorizer"
   ]
  },
  {
   "cell_type": "code",
   "execution_count": 4,
   "id": "3f503409-9af4-4037-b370-88dd3ae07506",
   "metadata": {},
   "outputs": [
    {
     "name": "stdout",
     "output_type": "stream",
     "text": [
      "          category                                               text\n",
      "0       BACKGROUND  Many pathogenic processes and diseases are the...\n",
      "1       BACKGROUND  It was recently demonstrated that supraphysiol...\n",
      "2       BACKGROUND  In the present study , we examined the associa...\n",
      "3       BACKGROUND  In addition , we compared plasma levels of MAp...\n",
      "4          METHODS  A total of 192 MI patients and 140 control per...\n",
      "...            ...                                                ...\n",
      "29257      RESULTS  Bone loss at the median forearm site was signi...\n",
      "29258      RESULTS  Breast tenderness occurred in 47 percent of th...\n",
      "29259      RESULTS  Vaginal bleeding occurred at some time in 52 p...\n",
      "29260  CONCLUSIONS  In postmenopausal women with low bone density ...\n",
      "29261  CONCLUSIONS  Although the exercise-estrogen regimen was mor...\n",
      "\n",
      "[29262 rows x 2 columns]\n"
     ]
    }
   ],
   "source": [
    "test_data = pd.read_csv('test_clean.csv')\n",
    "train_data = pd.read_csv('train_clean.csv')\n",
    "print(test_data)"
   ]
  },
  {
   "cell_type": "code",
   "execution_count": 5,
   "id": "aa8e60b0-bf8c-4b3e-b8da-efe7ece06b5e",
   "metadata": {},
   "outputs": [
    {
     "data": {
      "text/plain": [
       "array(['BACKGROUND', 'METHODS', 'CONCLUSIONS', 'RESULTS', 'OBJECTIVE'],\n",
       "      dtype=object)"
      ]
     },
     "execution_count": 5,
     "metadata": {},
     "output_type": "execute_result"
    }
   ],
   "source": [
    "pd.unique(train_data['category'])"
   ]
  },
  {
   "cell_type": "code",
   "execution_count": 6,
   "id": "c80f5847-eaf2-4f0e-b228-73fe26bff8a6",
   "metadata": {},
   "outputs": [],
   "source": [
    "CountVec = CountVectorizer(ngram_range=(1,1), # to use bigrams ngram_range=(2,2)\n",
    "                           stop_words='english')\n"
   ]
  },
  {
   "cell_type": "code",
   "execution_count": 7,
   "id": "2e4d44ba-785f-4b92-b442-9abb972883eb",
   "metadata": {},
   "outputs": [],
   "source": [
    "sentence_1_list = (train_data['text']).tolist()\n",
    "sentence_2_list = (test_data['text']).tolist()"
   ]
  },
  {
   "cell_type": "code",
   "execution_count": 8,
   "id": "41160e90-85e6-4d5f-8414-d7ce72cfa4ce",
   "metadata": {},
   "outputs": [],
   "source": [
    "sentence_1 =' '.join(map(str, sentence_1_list))\n",
    "sentence_2 =' '.join(map(str, sentence_2_list))"
   ]
  },
  {
   "cell_type": "code",
   "execution_count": 9,
   "id": "f925fe5b-7eeb-4c54-a4e9-a529a1f37be5",
   "metadata": {},
   "outputs": [],
   "source": [
    "#sentence_2"
   ]
  },
  {
   "cell_type": "code",
   "execution_count": 10,
   "id": "1f5f9a0e-f90e-4bff-8b07-482e454a2397",
   "metadata": {},
   "outputs": [],
   "source": [
    "#transform\n",
    "Count_data = CountVec.fit_transform([sentence_1, sentence_2])\n",
    " \n"
   ]
  },
  {
   "cell_type": "code",
   "execution_count": 11,
   "id": "20e1f34e-9196-4e89-97a5-84466c8c1fae",
   "metadata": {},
   "outputs": [
    {
     "name": "stderr",
     "output_type": "stream",
     "text": [
      "C:\\Users\\nicol\\anaconda3\\lib\\site-packages\\sklearn\\utils\\deprecation.py:87: FutureWarning: Function get_feature_names is deprecated; get_feature_names is deprecated in 1.0 and will be removed in 1.2. Please use get_feature_names_out instead.\n",
      "  warnings.warn(msg, category=FutureWarning)\n"
     ]
    },
    {
     "name": "stdout",
     "output_type": "stream",
     "text": [
      "     00   000  0000  00000  00000000001  00000001  00000003  00000005  \\\n",
      "0  6388  8013    90      1            1         1         2         2   \n",
      "1   108    78     2      0            0         0         0         0   \n",
      "\n",
      "   000000072  0000001  ...  zytf  zytm  zytram  zyw  zywave  zyxzm  zz  zzd  \\\n",
      "0          1        8  ...     3     5       1    7       6      2   6    4   \n",
      "1          0        0  ...     0     0       0    0       0      0   0    0   \n",
      "\n",
      "   zzkzc  zzp  \n",
      "0      7    3  \n",
      "1      0    0  \n",
      "\n",
      "[2 rows x 179820 columns]\n"
     ]
    }
   ],
   "source": [
    "#create dataframe\n",
    "bow_df =pd.DataFrame(Count_data.toarray(),columns=CountVec.get_feature_names())\n",
    "print(bow_df)"
   ]
  },
  {
   "cell_type": "code",
   "execution_count": 12,
   "id": "20a62816-4887-4be3-aa1e-b4e629896b1d",
   "metadata": {},
   "outputs": [
    {
     "data": {
      "text/html": [
       "<div>\n",
       "<style scoped>\n",
       "    .dataframe tbody tr th:only-of-type {\n",
       "        vertical-align: middle;\n",
       "    }\n",
       "\n",
       "    .dataframe tbody tr th {\n",
       "        vertical-align: top;\n",
       "    }\n",
       "\n",
       "    .dataframe thead th {\n",
       "        text-align: right;\n",
       "    }\n",
       "</style>\n",
       "<table border=\"1\" class=\"dataframe\">\n",
       "  <thead>\n",
       "    <tr style=\"text-align: right;\">\n",
       "      <th></th>\n",
       "      <th>00</th>\n",
       "      <th>000</th>\n",
       "      <th>0000</th>\n",
       "      <th>00000</th>\n",
       "      <th>00000000001</th>\n",
       "      <th>00000001</th>\n",
       "      <th>00000003</th>\n",
       "      <th>00000005</th>\n",
       "      <th>000000072</th>\n",
       "      <th>0000001</th>\n",
       "      <th>...</th>\n",
       "      <th>zytf</th>\n",
       "      <th>zytm</th>\n",
       "      <th>zytram</th>\n",
       "      <th>zyw</th>\n",
       "      <th>zywave</th>\n",
       "      <th>zyxzm</th>\n",
       "      <th>zz</th>\n",
       "      <th>zzd</th>\n",
       "      <th>zzkzc</th>\n",
       "      <th>zzp</th>\n",
       "    </tr>\n",
       "  </thead>\n",
       "  <tbody>\n",
       "    <tr>\n",
       "      <th>0</th>\n",
       "      <td>6388</td>\n",
       "      <td>8013</td>\n",
       "      <td>90</td>\n",
       "      <td>1</td>\n",
       "      <td>1</td>\n",
       "      <td>1</td>\n",
       "      <td>2</td>\n",
       "      <td>2</td>\n",
       "      <td>1</td>\n",
       "      <td>8</td>\n",
       "      <td>...</td>\n",
       "      <td>3</td>\n",
       "      <td>5</td>\n",
       "      <td>1</td>\n",
       "      <td>7</td>\n",
       "      <td>6</td>\n",
       "      <td>2</td>\n",
       "      <td>6</td>\n",
       "      <td>4</td>\n",
       "      <td>7</td>\n",
       "      <td>3</td>\n",
       "    </tr>\n",
       "    <tr>\n",
       "      <th>1</th>\n",
       "      <td>108</td>\n",
       "      <td>78</td>\n",
       "      <td>2</td>\n",
       "      <td>0</td>\n",
       "      <td>0</td>\n",
       "      <td>0</td>\n",
       "      <td>0</td>\n",
       "      <td>0</td>\n",
       "      <td>0</td>\n",
       "      <td>0</td>\n",
       "      <td>...</td>\n",
       "      <td>0</td>\n",
       "      <td>0</td>\n",
       "      <td>0</td>\n",
       "      <td>0</td>\n",
       "      <td>0</td>\n",
       "      <td>0</td>\n",
       "      <td>0</td>\n",
       "      <td>0</td>\n",
       "      <td>0</td>\n",
       "      <td>0</td>\n",
       "    </tr>\n",
       "  </tbody>\n",
       "</table>\n",
       "<p>2 rows × 179820 columns</p>\n",
       "</div>"
      ],
      "text/plain": [
       "     00   000  0000  00000  00000000001  00000001  00000003  00000005  \\\n",
       "0  6388  8013    90      1            1         1         2         2   \n",
       "1   108    78     2      0            0         0         0         0   \n",
       "\n",
       "   000000072  0000001  ...  zytf  zytm  zytram  zyw  zywave  zyxzm  zz  zzd  \\\n",
       "0          1        8  ...     3     5       1    7       6      2   6    4   \n",
       "1          0        0  ...     0     0       0    0       0      0   0    0   \n",
       "\n",
       "   zzkzc  zzp  \n",
       "0      7    3  \n",
       "1      0    0  \n",
       "\n",
       "[2 rows x 179820 columns]"
      ]
     },
     "metadata": {},
     "output_type": "display_data"
    }
   ],
   "source": [
    "display(bow_df)"
   ]
  },
  {
   "cell_type": "code",
   "execution_count": 13,
   "id": "89402869-00e3-48fd-8611-a28f3fe2097e",
   "metadata": {},
   "outputs": [],
   "source": [
    "bow_df = bow_df.T"
   ]
  },
  {
   "cell_type": "code",
   "execution_count": 14,
   "id": "c1bcf497-400e-4cfa-a5b7-a403b66a3151",
   "metadata": {},
   "outputs": [
    {
     "data": {
      "text/html": [
       "<div>\n",
       "<style scoped>\n",
       "    .dataframe tbody tr th:only-of-type {\n",
       "        vertical-align: middle;\n",
       "    }\n",
       "\n",
       "    .dataframe tbody tr th {\n",
       "        vertical-align: top;\n",
       "    }\n",
       "\n",
       "    .dataframe thead th {\n",
       "        text-align: right;\n",
       "    }\n",
       "</style>\n",
       "<table border=\"1\" class=\"dataframe\">\n",
       "  <thead>\n",
       "    <tr style=\"text-align: right;\">\n",
       "      <th></th>\n",
       "      <th>0</th>\n",
       "      <th>1</th>\n",
       "    </tr>\n",
       "  </thead>\n",
       "  <tbody>\n",
       "    <tr>\n",
       "      <th>00</th>\n",
       "      <td>6388</td>\n",
       "      <td>108</td>\n",
       "    </tr>\n",
       "    <tr>\n",
       "      <th>000</th>\n",
       "      <td>8013</td>\n",
       "      <td>78</td>\n",
       "    </tr>\n",
       "    <tr>\n",
       "      <th>0000</th>\n",
       "      <td>90</td>\n",
       "      <td>2</td>\n",
       "    </tr>\n",
       "    <tr>\n",
       "      <th>00000</th>\n",
       "      <td>1</td>\n",
       "      <td>0</td>\n",
       "    </tr>\n",
       "    <tr>\n",
       "      <th>00000000001</th>\n",
       "      <td>1</td>\n",
       "      <td>0</td>\n",
       "    </tr>\n",
       "    <tr>\n",
       "      <th>...</th>\n",
       "      <td>...</td>\n",
       "      <td>...</td>\n",
       "    </tr>\n",
       "    <tr>\n",
       "      <th>zyxzm</th>\n",
       "      <td>2</td>\n",
       "      <td>0</td>\n",
       "    </tr>\n",
       "    <tr>\n",
       "      <th>zz</th>\n",
       "      <td>6</td>\n",
       "      <td>0</td>\n",
       "    </tr>\n",
       "    <tr>\n",
       "      <th>zzd</th>\n",
       "      <td>4</td>\n",
       "      <td>0</td>\n",
       "    </tr>\n",
       "    <tr>\n",
       "      <th>zzkzc</th>\n",
       "      <td>7</td>\n",
       "      <td>0</td>\n",
       "    </tr>\n",
       "    <tr>\n",
       "      <th>zzp</th>\n",
       "      <td>3</td>\n",
       "      <td>0</td>\n",
       "    </tr>\n",
       "  </tbody>\n",
       "</table>\n",
       "<p>179820 rows × 2 columns</p>\n",
       "</div>"
      ],
      "text/plain": [
       "                0    1\n",
       "00           6388  108\n",
       "000          8013   78\n",
       "0000           90    2\n",
       "00000           1    0\n",
       "00000000001     1    0\n",
       "...           ...  ...\n",
       "zyxzm           2    0\n",
       "zz              6    0\n",
       "zzd             4    0\n",
       "zzkzc           7    0\n",
       "zzp             3    0\n",
       "\n",
       "[179820 rows x 2 columns]"
      ]
     },
     "metadata": {},
     "output_type": "display_data"
    }
   ],
   "source": [
    "display(bow_df)"
   ]
  },
  {
   "cell_type": "code",
   "execution_count": 15,
   "id": "73709a93-7bc4-45d2-af10-65d2ebbc77cc",
   "metadata": {},
   "outputs": [
    {
     "data": {
      "text/html": [
       "<div>\n",
       "<style scoped>\n",
       "    .dataframe tbody tr th:only-of-type {\n",
       "        vertical-align: middle;\n",
       "    }\n",
       "\n",
       "    .dataframe tbody tr th {\n",
       "        vertical-align: top;\n",
       "    }\n",
       "\n",
       "    .dataframe thead th {\n",
       "        text-align: right;\n",
       "    }\n",
       "</style>\n",
       "<table border=\"1\" class=\"dataframe\">\n",
       "  <thead>\n",
       "    <tr style=\"text-align: right;\">\n",
       "      <th></th>\n",
       "      <th>0</th>\n",
       "      <th>1</th>\n",
       "    </tr>\n",
       "  </thead>\n",
       "  <tbody>\n",
       "    <tr>\n",
       "      <th>patients</th>\n",
       "      <td>524404</td>\n",
       "      <td>7092</td>\n",
       "    </tr>\n",
       "    <tr>\n",
       "      <th>group</th>\n",
       "      <td>427119</td>\n",
       "      <td>5619</td>\n",
       "    </tr>\n",
       "    <tr>\n",
       "      <th>treatment</th>\n",
       "      <td>247588</td>\n",
       "      <td>3157</td>\n",
       "    </tr>\n",
       "    <tr>\n",
       "      <th>study</th>\n",
       "      <td>232757</td>\n",
       "      <td>3287</td>\n",
       "    </tr>\n",
       "    <tr>\n",
       "      <th>groups</th>\n",
       "      <td>169449</td>\n",
       "      <td>2253</td>\n",
       "    </tr>\n",
       "    <tr>\n",
       "      <th>...</th>\n",
       "      <td>...</td>\n",
       "      <td>...</td>\n",
       "    </tr>\n",
       "    <tr>\n",
       "      <th>nct01005498</th>\n",
       "      <td>0</td>\n",
       "      <td>1</td>\n",
       "    </tr>\n",
       "    <tr>\n",
       "      <th>linctus</th>\n",
       "      <td>0</td>\n",
       "      <td>1</td>\n",
       "    </tr>\n",
       "    <tr>\n",
       "      <th>photoeruptions</th>\n",
       "      <td>0</td>\n",
       "      <td>1</td>\n",
       "    </tr>\n",
       "    <tr>\n",
       "      <th>ballots</th>\n",
       "      <td>0</td>\n",
       "      <td>1</td>\n",
       "    </tr>\n",
       "    <tr>\n",
       "      <th>d4t30</th>\n",
       "      <td>0</td>\n",
       "      <td>5</td>\n",
       "    </tr>\n",
       "  </tbody>\n",
       "</table>\n",
       "<p>179820 rows × 2 columns</p>\n",
       "</div>"
      ],
      "text/plain": [
       "                     0     1\n",
       "patients        524404  7092\n",
       "group           427119  5619\n",
       "treatment       247588  3157\n",
       "study           232757  3287\n",
       "groups          169449  2253\n",
       "...                ...   ...\n",
       "nct01005498          0     1\n",
       "linctus              0     1\n",
       "photoeruptions       0     1\n",
       "ballots              0     1\n",
       "d4t30                0     5\n",
       "\n",
       "[179820 rows x 2 columns]"
      ]
     },
     "execution_count": 15,
     "metadata": {},
     "output_type": "execute_result"
    }
   ],
   "source": [
    "bow_df.sort_values(0, ascending = False)"
   ]
  },
  {
   "cell_type": "code",
   "execution_count": 16,
   "id": "55b7c31a-f09d-44b2-903c-7bc735dffdca",
   "metadata": {},
   "outputs": [],
   "source": [
    "bow_df = bow_df.sort_values(1, ascending = False)"
   ]
  },
  {
   "cell_type": "code",
   "execution_count": 17,
   "id": "6aa16283-c703-4ad9-9823-dc383a549fc5",
   "metadata": {},
   "outputs": [
    {
     "data": {
      "text/plain": [
       "patients         524404\n",
       "group            427119\n",
       "study            232757\n",
       "treatment        247588\n",
       "groups           169449\n",
       "mg               146321\n",
       "placebo          139953\n",
       "randomized       138327\n",
       "significant      130407\n",
       "compared         125635\n",
       "significantly    128153\n",
       "control          114286\n",
       "trial            104029\n",
       "months           103265\n",
       "clinical          92461\n",
       "mean              91260\n",
       "12                95594\n",
       "baseline          82827\n",
       "10                90712\n",
       "years             74337\n",
       "Name: 0, dtype: int64"
      ]
     },
     "execution_count": 17,
     "metadata": {},
     "output_type": "execute_result"
    }
   ],
   "source": [
    "bow_df[0].head(20)"
   ]
  },
  {
   "cell_type": "code",
   "execution_count": 18,
   "id": "5be4fc7f-310a-46f6-b34a-348b1ab615b8",
   "metadata": {},
   "outputs": [
    {
     "data": {
      "text/plain": [
       "patients         7092\n",
       "group            5619\n",
       "study            3287\n",
       "treatment        3157\n",
       "groups           2253\n",
       "mg               2008\n",
       "placebo          1960\n",
       "randomized       1820\n",
       "significant      1706\n",
       "compared         1655\n",
       "significantly    1647\n",
       "control          1479\n",
       "trial            1443\n",
       "months           1418\n",
       "clinical         1278\n",
       "mean             1244\n",
       "12               1175\n",
       "baseline         1174\n",
       "10               1171\n",
       "years            1139\n",
       "Name: 1, dtype: int64"
      ]
     },
     "execution_count": 18,
     "metadata": {},
     "output_type": "execute_result"
    }
   ],
   "source": [
    "bow_df[1].head(20)"
   ]
  },
  {
   "cell_type": "code",
   "execution_count": 19,
   "id": "d364045b-d927-4073-b521-5dbf95b0be53",
   "metadata": {},
   "outputs": [],
   "source": [
    "# this is the complete bow for test and train\n",
    "# the real comparisons we want to see are between the subgroups \n",
    "# using the train data, I will now separate the data by category and sort by bow again\n",
    "\n",
    "\n",
    "methods = train_data.loc[train_data['category'] == 'METHODS']\n",
    "background = train_data.loc[train_data['category'] == 'BACKGROUND']\n",
    "results = train_data.loc[train_data['category'] == 'RESULTS']\n",
    "objective = train_data.loc[train_data['category'] == 'OBJECTIVE']\n",
    "conclusions = train_data.loc[train_data['category'] == 'CONCLUSIONS']\n"
   ]
  },
  {
   "cell_type": "code",
   "execution_count": 20,
   "id": "6e59275b-5cba-4a8b-9a36-9e7cff00a726",
   "metadata": {},
   "outputs": [],
   "source": [
    "group_1_list = (methods['text']).tolist()\n",
    "group_2_list = (background['text']).tolist()\n",
    "group_3_list = (results['text']).tolist()\n",
    "group_4_list = (objective['text']).tolist()\n",
    "group_5_list = (conclusions['text']).tolist()"
   ]
  },
  {
   "cell_type": "code",
   "execution_count": 21,
   "id": "b9887a72-448b-449b-98b2-4805c339e0b5",
   "metadata": {},
   "outputs": [],
   "source": [
    "group_m =' '.join(map(str, group_1_list))\n",
    "group_b =' '.join(map(str, group_2_list))\n",
    "group_r =' '.join(map(str, group_3_list))\n",
    "group_o =' '.join(map(str, group_4_list))\n",
    "group_c =' '.join(map(str, group_5_list))\n"
   ]
  },
  {
   "cell_type": "code",
   "execution_count": 22,
   "id": "0c4b4346-d6db-445a-b963-7a6bcdeb0902",
   "metadata": {},
   "outputs": [],
   "source": [
    "Count_data_groups = CountVec.fit_transform([group_b, group_o, group_m, group_r, group_c])"
   ]
  },
  {
   "cell_type": "code",
   "execution_count": 23,
   "id": "59331a0e-e6f1-4067-b70d-ced909564134",
   "metadata": {},
   "outputs": [
    {
     "name": "stderr",
     "output_type": "stream",
     "text": [
      "C:\\Users\\nicol\\anaconda3\\lib\\site-packages\\sklearn\\utils\\deprecation.py:87: FutureWarning: Function get_feature_names is deprecated; get_feature_names is deprecated in 1.0 and will be removed in 1.2. Please use get_feature_names_out instead.\n",
      "  warnings.warn(msg, category=FutureWarning)\n"
     ]
    },
    {
     "name": "stdout",
     "output_type": "stream",
     "text": [
      "     00   000  0000  00000  00000000001  00000001  00000003  00000005  \\\n",
      "0    20   264     0      0            0         0         0         0   \n",
      "1    72   247     0      0            0         0         0         0   \n",
      "2  1538  3314     4      0            0         0         0         0   \n",
      "3  4670  3666    86      1            1         1         2         2   \n",
      "4    88   522     0      0            0         0         0         0   \n",
      "\n",
      "   000000072  0000001  ...  zytf  zytm  zytram  zyw  zywave  zyxzm  zz  zzd  \\\n",
      "0          0        0  ...     0     0       0    0       0      0   0    0   \n",
      "1          0        0  ...     1     1       1    2       0      0   1    1   \n",
      "2          0        0  ...     1     1       0    1       6      1   2    0   \n",
      "3          1        8  ...     0     2       0    2       0      0   1    2   \n",
      "4          0        0  ...     1     1       0    2       0      1   2    1   \n",
      "\n",
      "   zzkzc  zzp  \n",
      "0      0    0  \n",
      "1      1    1  \n",
      "2      4    1  \n",
      "3      1    0  \n",
      "4      1    1  \n",
      "\n",
      "[5 rows x 178619 columns]\n"
     ]
    }
   ],
   "source": [
    "cat_bow =pd.DataFrame(Count_data_groups.toarray(),columns=CountVec.get_feature_names())\n",
    "print(cat_bow)"
   ]
  },
  {
   "cell_type": "code",
   "execution_count": 24,
   "id": "9e407013-dbd7-4b51-93a8-691837729bc9",
   "metadata": {},
   "outputs": [],
   "source": [
    "cat_bow = cat_bow.T"
   ]
  },
  {
   "cell_type": "code",
   "execution_count": 25,
   "id": "bc5c47bc-621c-4104-aee3-11ec02d80e7d",
   "metadata": {},
   "outputs": [],
   "source": [
    "cat_bow = cat_bow.sort_values(1, ascending = False)"
   ]
  },
  {
   "cell_type": "code",
   "execution_count": 26,
   "id": "f3ff42d8-b36c-468c-a772-1a220cbbadd9",
   "metadata": {},
   "outputs": [
    {
     "data": {
      "text/html": [
       "<div>\n",
       "<style scoped>\n",
       "    .dataframe tbody tr th:only-of-type {\n",
       "        vertical-align: middle;\n",
       "    }\n",
       "\n",
       "    .dataframe tbody tr th {\n",
       "        vertical-align: top;\n",
       "    }\n",
       "\n",
       "    .dataframe thead th {\n",
       "        text-align: right;\n",
       "    }\n",
       "</style>\n",
       "<table border=\"1\" class=\"dataframe\">\n",
       "  <thead>\n",
       "    <tr style=\"text-align: right;\">\n",
       "      <th></th>\n",
       "      <th>0</th>\n",
       "      <th>1</th>\n",
       "      <th>2</th>\n",
       "      <th>3</th>\n",
       "      <th>4</th>\n",
       "    </tr>\n",
       "  </thead>\n",
       "  <tbody>\n",
       "    <tr>\n",
       "      <th>study</th>\n",
       "      <td>27408</td>\n",
       "      <td>43610</td>\n",
       "      <td>91204</td>\n",
       "      <td>39095</td>\n",
       "      <td>31440</td>\n",
       "    </tr>\n",
       "    <tr>\n",
       "      <th>patients</th>\n",
       "      <td>35916</td>\n",
       "      <td>42603</td>\n",
       "      <td>188110</td>\n",
       "      <td>186231</td>\n",
       "      <td>71544</td>\n",
       "    </tr>\n",
       "    <tr>\n",
       "      <th>treatment</th>\n",
       "      <td>21669</td>\n",
       "      <td>24665</td>\n",
       "      <td>73432</td>\n",
       "      <td>83210</td>\n",
       "      <td>44612</td>\n",
       "    </tr>\n",
       "    <tr>\n",
       "      <th>efficacy</th>\n",
       "      <td>10948</td>\n",
       "      <td>23339</td>\n",
       "      <td>12649</td>\n",
       "      <td>7867</td>\n",
       "      <td>10587</td>\n",
       "    </tr>\n",
       "    <tr>\n",
       "      <th>evaluate</th>\n",
       "      <td>5480</td>\n",
       "      <td>22648</td>\n",
       "      <td>4149</td>\n",
       "      <td>266</td>\n",
       "      <td>1521</td>\n",
       "    </tr>\n",
       "    <tr>\n",
       "      <th>effects</th>\n",
       "      <td>13136</td>\n",
       "      <td>21782</td>\n",
       "      <td>11249</td>\n",
       "      <td>18417</td>\n",
       "      <td>17890</td>\n",
       "    </tr>\n",
       "    <tr>\n",
       "      <th>compare</th>\n",
       "      <td>4592</td>\n",
       "      <td>21273</td>\n",
       "      <td>3321</td>\n",
       "      <td>258</td>\n",
       "      <td>399</td>\n",
       "    </tr>\n",
       "    <tr>\n",
       "      <th>effect</th>\n",
       "      <td>9672</td>\n",
       "      <td>19601</td>\n",
       "      <td>7048</td>\n",
       "      <td>20919</td>\n",
       "      <td>19573</td>\n",
       "    </tr>\n",
       "    <tr>\n",
       "      <th>determine</th>\n",
       "      <td>4661</td>\n",
       "      <td>18854</td>\n",
       "      <td>4096</td>\n",
       "      <td>336</td>\n",
       "      <td>2338</td>\n",
       "    </tr>\n",
       "    <tr>\n",
       "      <th>therapy</th>\n",
       "      <td>11267</td>\n",
       "      <td>13334</td>\n",
       "      <td>22122</td>\n",
       "      <td>18860</td>\n",
       "      <td>19639</td>\n",
       "    </tr>\n",
       "    <tr>\n",
       "      <th>assess</th>\n",
       "      <td>3994</td>\n",
       "      <td>12723</td>\n",
       "      <td>5979</td>\n",
       "      <td>454</td>\n",
       "      <td>1519</td>\n",
       "    </tr>\n",
       "    <tr>\n",
       "      <th>clinical</th>\n",
       "      <td>12047</td>\n",
       "      <td>12516</td>\n",
       "      <td>33357</td>\n",
       "      <td>14794</td>\n",
       "      <td>19747</td>\n",
       "    </tr>\n",
       "    <tr>\n",
       "      <th>safety</th>\n",
       "      <td>5238</td>\n",
       "      <td>11876</td>\n",
       "      <td>7353</td>\n",
       "      <td>3498</td>\n",
       "      <td>5228</td>\n",
       "    </tr>\n",
       "    <tr>\n",
       "      <th>investigate</th>\n",
       "      <td>2852</td>\n",
       "      <td>11313</td>\n",
       "      <td>842</td>\n",
       "      <td>46</td>\n",
       "      <td>664</td>\n",
       "    </tr>\n",
       "    <tr>\n",
       "      <th>aim</th>\n",
       "      <td>6974</td>\n",
       "      <td>10910</td>\n",
       "      <td>614</td>\n",
       "      <td>75</td>\n",
       "      <td>278</td>\n",
       "    </tr>\n",
       "    <tr>\n",
       "      <th>trial</th>\n",
       "      <td>11729</td>\n",
       "      <td>10867</td>\n",
       "      <td>60304</td>\n",
       "      <td>9673</td>\n",
       "      <td>11456</td>\n",
       "    </tr>\n",
       "    <tr>\n",
       "      <th>compared</th>\n",
       "      <td>7806</td>\n",
       "      <td>10436</td>\n",
       "      <td>19803</td>\n",
       "      <td>71247</td>\n",
       "      <td>16343</td>\n",
       "    </tr>\n",
       "    <tr>\n",
       "      <th>randomized</th>\n",
       "      <td>8417</td>\n",
       "      <td>9677</td>\n",
       "      <td>103980</td>\n",
       "      <td>12507</td>\n",
       "      <td>3746</td>\n",
       "    </tr>\n",
       "    <tr>\n",
       "      <th>effectiveness</th>\n",
       "      <td>4912</td>\n",
       "      <td>8301</td>\n",
       "      <td>3788</td>\n",
       "      <td>1822</td>\n",
       "      <td>3870</td>\n",
       "    </tr>\n",
       "    <tr>\n",
       "      <th>pain</th>\n",
       "      <td>6800</td>\n",
       "      <td>8292</td>\n",
       "      <td>24502</td>\n",
       "      <td>26583</td>\n",
       "      <td>12653</td>\n",
       "    </tr>\n",
       "  </tbody>\n",
       "</table>\n",
       "</div>"
      ],
      "text/plain": [
       "                   0      1       2       3      4\n",
       "study          27408  43610   91204   39095  31440\n",
       "patients       35916  42603  188110  186231  71544\n",
       "treatment      21669  24665   73432   83210  44612\n",
       "efficacy       10948  23339   12649    7867  10587\n",
       "evaluate        5480  22648    4149     266   1521\n",
       "effects        13136  21782   11249   18417  17890\n",
       "compare         4592  21273    3321     258    399\n",
       "effect          9672  19601    7048   20919  19573\n",
       "determine       4661  18854    4096     336   2338\n",
       "therapy        11267  13334   22122   18860  19639\n",
       "assess          3994  12723    5979     454   1519\n",
       "clinical       12047  12516   33357   14794  19747\n",
       "safety          5238  11876    7353    3498   5228\n",
       "investigate     2852  11313     842      46    664\n",
       "aim             6974  10910     614      75    278\n",
       "trial          11729  10867   60304    9673  11456\n",
       "compared        7806  10436   19803   71247  16343\n",
       "randomized      8417   9677  103980   12507   3746\n",
       "effectiveness   4912   8301    3788    1822   3870\n",
       "pain            6800   8292   24502   26583  12653"
      ]
     },
     "execution_count": 26,
     "metadata": {},
     "output_type": "execute_result"
    }
   ],
   "source": [
    "cat_bow.head(20)"
   ]
  },
  {
   "cell_type": "code",
   "execution_count": 27,
   "id": "db34f192-1233-4655-b0cc-059fdaed09dd",
   "metadata": {},
   "outputs": [
    {
     "data": {
      "text/plain": [
       "patients      35916\n",
       "study         27408\n",
       "treatment     21669\n",
       "effects       13136\n",
       "clinical      12047\n",
       "trial         11729\n",
       "therapy       11267\n",
       "efficacy      10948\n",
       "risk          10526\n",
       "disease       10206\n",
       "studies        9992\n",
       "effect         9672\n",
       "randomized     8417\n",
       "associated     8304\n",
       "compared       7806\n",
       "use            7608\n",
       "cancer         7402\n",
       "controlled     7346\n",
       "used           7311\n",
       "health         7065\n",
       "Name: 0, dtype: int64"
      ]
     },
     "execution_count": 27,
     "metadata": {},
     "output_type": "execute_result"
    }
   ],
   "source": [
    "#background\n",
    "cat_bow = cat_bow.sort_values(0, ascending = False)\n",
    "cat_bow[0].head(20)"
   ]
  },
  {
   "cell_type": "code",
   "execution_count": 28,
   "id": "ad1a7c9f-0dac-4488-a122-d5287663d3c2",
   "metadata": {},
   "outputs": [
    {
     "data": {
      "text/plain": [
       "study            43610\n",
       "patients         42603\n",
       "treatment        24665\n",
       "efficacy         23339\n",
       "evaluate         22648\n",
       "effects          21782\n",
       "compare          21273\n",
       "effect           19601\n",
       "determine        18854\n",
       "therapy          13334\n",
       "assess           12723\n",
       "clinical         12516\n",
       "safety           11876\n",
       "investigate      11313\n",
       "aim              10910\n",
       "trial            10867\n",
       "compared         10436\n",
       "randomized        9677\n",
       "effectiveness     8301\n",
       "pain              8292\n",
       "Name: 1, dtype: int64"
      ]
     },
     "execution_count": 28,
     "metadata": {},
     "output_type": "execute_result"
    }
   ],
   "source": [
    "#objective\n",
    "cat_bow = cat_bow.sort_values(1, ascending = False)\n",
    "cat_bow[1].head(20)"
   ]
  },
  {
   "cell_type": "code",
   "execution_count": 29,
   "id": "2505ab2a-a733-4265-990e-e0d3b808db96",
   "metadata": {},
   "outputs": [
    {
     "data": {
      "text/plain": [
       "patients      188110\n",
       "group         126469\n",
       "randomized    103980\n",
       "study          91204\n",
       "mg             88373\n",
       "treatment      73432\n",
       "trial          60304\n",
       "placebo        60071\n",
       "randomly       50654\n",
       "groups         49692\n",
       "weeks          49658\n",
       "received       47582\n",
       "months         46746\n",
       "controlled     45466\n",
       "using          44250\n",
       "control        43282\n",
       "day            42905\n",
       "12             41343\n",
       "years          39016\n",
       "10             38121\n",
       "Name: 2, dtype: int64"
      ]
     },
     "execution_count": 29,
     "metadata": {},
     "output_type": "execute_result"
    }
   ],
   "source": [
    "#methods\n",
    "cat_bow = cat_bow.sort_values(2, ascending = False)\n",
    "cat_bow[2].head(20)"
   ]
  },
  {
   "cell_type": "code",
   "execution_count": 30,
   "id": "8645187a-376a-410a-9bee-e03cd73c20c1",
   "metadata": {},
   "outputs": [
    {
     "data": {
      "text/plain": [
       "group            283998\n",
       "patients         186231\n",
       "groups           112794\n",
       "significantly    108500\n",
       "significant      106663\n",
       "treatment         83210\n",
       "vs                82095\n",
       "95                73946\n",
       "mean              71274\n",
       "compared          71247\n",
       "placebo           65104\n",
       "05                62655\n",
       "ci                59129\n",
       "respectively      57724\n",
       "001               57393\n",
       "difference        54748\n",
       "control           53696\n",
       "months            47168\n",
       "12                47031\n",
       "10                45478\n",
       "Name: 3, dtype: int64"
      ]
     },
     "execution_count": 30,
     "metadata": {},
     "output_type": "execute_result"
    }
   ],
   "source": [
    "#results\n",
    "cat_bow = cat_bow.sort_values(3, ascending = False)\n",
    "cat_bow[3].head(20)"
   ]
  },
  {
   "cell_type": "code",
   "execution_count": 31,
   "id": "b5bacdc6-243e-4f41-a1e0-3cbc93b75c03",
   "metadata": {},
   "outputs": [
    {
     "data": {
      "text/plain": [
       "patients         71544\n",
       "treatment        44612\n",
       "study            31440\n",
       "effective        27710\n",
       "results          24444\n",
       "clinical         19747\n",
       "therapy          19639\n",
       "effect           19573\n",
       "use              18209\n",
       "effects          17890\n",
       "associated       17877\n",
       "risk             17743\n",
       "significantly    17415\n",
       "significant      17363\n",
       "compared         16343\n",
       "dose             15249\n",
       "high             13353\n",
       "did              13269\n",
       "pain             12653\n",
       "term             12470\n",
       "Name: 4, dtype: int64"
      ]
     },
     "execution_count": 31,
     "metadata": {},
     "output_type": "execute_result"
    }
   ],
   "source": [
    "#conclusions\n",
    "cat_bow = cat_bow.sort_values(4, ascending = False)\n",
    "cat_bow[4].head(20)"
   ]
  },
  {
   "cell_type": "code",
   "execution_count": 32,
   "id": "969537ff-2223-4482-ab86-6ffa615eb76c",
   "metadata": {},
   "outputs": [],
   "source": [
    "# next is the unsupervised continuous bag of words model\n",
    "# cite : https://github.com/FraLotito/pytorch-continuous-bag-of-words/blob/master/cbow.py\n",
    "import torch\n",
    "import torch.nn as nn"
   ]
  },
  {
   "cell_type": "code",
   "execution_count": 33,
   "id": "f693d16a-690e-4c00-aeee-af1b57aed7ff",
   "metadata": {},
   "outputs": [],
   "source": [
    "def make_context_vector(context, word_to_ix):\n",
    "    idxs = [word_to_ix[w] for w in context]\n",
    "    return torch.tensor(idxs, dtype=torch.long)"
   ]
  },
  {
   "cell_type": "code",
   "execution_count": 34,
   "id": "4bdbb2c1-360d-4883-bdfe-b4cf1b77d135",
   "metadata": {},
   "outputs": [],
   "source": [
    "CONTEXT_SIZE = 2  # 2 words to the left, 2 to the right\n",
    "EMDEDDING_DIM = 100"
   ]
  },
  {
   "cell_type": "code",
   "execution_count": 35,
   "id": "82038f43-7f6c-45fe-acd3-f37b8ca3412a",
   "metadata": {},
   "outputs": [],
   "source": [
    "# make a smaller dataset to test on\n",
    "\n",
    "train_data_sample = train_data.iloc[1:50]\n",
    "sample_1_list = (train_data_sample['text']).tolist()\n",
    "#sample_1 =' '.join(map(str, sample_1_list))\n",
    "sentences = sample_1_list"
   ]
  },
  {
   "cell_type": "code",
   "execution_count": 36,
   "id": "317babef-bb56-475e-ae09-9f43970493d7",
   "metadata": {},
   "outputs": [],
   "source": [
    "for i, sentence in enumerate(sentences):\n",
    "    #sentence = sentence.strip('.,();:')\n",
    "    sentence = sentence.replace(',','')\n",
    "    sentence = sentence.replace('.','')\n",
    "    sentence = sentence.replace('(','')\n",
    "    sentence = sentence.replace(')','')\n",
    "    sentence = sentence.replace(';','')\n",
    "    sentence = sentence.replace(':','')\n",
    "    sentence = sentence.split()\n",
    "    \n",
    "    sentences[i] = sentence"
   ]
  },
  {
   "cell_type": "code",
   "execution_count": 37,
   "id": "b26bac37-4224-4b8a-adbc-16fb5ec2bcc3",
   "metadata": {},
   "outputs": [],
   "source": [
    "#sentences\n",
    "import itertools\n",
    "\n",
    "regular_list = sentences\n",
    "raw_text = list(itertools.chain(*regular_list))"
   ]
  },
  {
   "cell_type": "code",
   "execution_count": 38,
   "id": "a5baf0ca-8c6f-4b5e-b1bf-375a75355f3a",
   "metadata": {},
   "outputs": [],
   "source": [
    "#raw_text"
   ]
  },
  {
   "cell_type": "code",
   "execution_count": 39,
   "id": "8259f8aa-21ec-4cdc-b531-4b0b2db8eb25",
   "metadata": {},
   "outputs": [],
   "source": [
    "# By deriving a set from `raw_text`, we deduplicate the array\n",
    "vocab = set(raw_text)\n",
    "vocab_size = len(vocab)"
   ]
  },
  {
   "cell_type": "code",
   "execution_count": 40,
   "id": "d0a8fbe8-90b5-4904-826c-7e6f6f10aab1",
   "metadata": {},
   "outputs": [],
   "source": [
    "word_to_ix = {word:ix for ix, word in enumerate(vocab)}\n",
    "ix_to_word = {ix:word for ix, word in enumerate(vocab)}"
   ]
  },
  {
   "cell_type": "code",
   "execution_count": 41,
   "id": "653e722a-7c15-4076-ab1b-a640b8f93f8c",
   "metadata": {},
   "outputs": [],
   "source": [
    "data = []\n",
    "for i in range(2, len(raw_text) - 2):\n",
    "    context = [raw_text[i - 2], raw_text[i - 1],\n",
    "               raw_text[i + 1], raw_text[i + 2]]\n",
    "    target = raw_text[i]\n",
    "    data.append((context, target))"
   ]
  },
  {
   "cell_type": "code",
   "execution_count": 42,
   "id": "61357eca-b06a-4b7d-bab4-e437a2d02fed",
   "metadata": {},
   "outputs": [],
   "source": [
    "class CBOW(torch.nn.Module):\n",
    "    def __init__(self, vocab_size, embedding_dim):\n",
    "        super(CBOW, self).__init__()\n",
    "\n",
    "        #out: 1 x emdedding_dim\n",
    "        self.embeddings = nn.Embedding(vocab_size, embedding_dim)\n",
    "        self.linear1 = nn.Linear(embedding_dim, 128)\n",
    "        self.activation_function1 = nn.ReLU()\n",
    "        \n",
    "        #out: 1 x vocab_size\n",
    "        self.linear2 = nn.Linear(128, vocab_size)\n",
    "        self.activation_function2 = nn.LogSoftmax(dim = -1)\n",
    "        \n",
    "\n",
    "    def forward(self, inputs):\n",
    "        embeds = sum(self.embeddings(inputs)).view(1,-1)\n",
    "        out = self.linear1(embeds)\n",
    "        out = self.activation_function1(out)\n",
    "        out = self.linear2(out)\n",
    "        out = self.activation_function2(out)\n",
    "        return out\n",
    "\n",
    "    def get_word_emdedding(self, word):\n",
    "        word = torch.tensor([word_to_ix[word]])\n",
    "        return self.embeddings(word).view(1,-1)"
   ]
  },
  {
   "cell_type": "code",
   "execution_count": 43,
   "id": "3aee2da1-0799-4790-ab2b-3f56a1d241c7",
   "metadata": {},
   "outputs": [],
   "source": [
    "model = CBOW(vocab_size, EMDEDDING_DIM)\n",
    "\n",
    "loss_function = nn.NLLLoss()\n",
    "optimizer = torch.optim.SGD(model.parameters(), lr=0.001)\n",
    "\n"
   ]
  },
  {
   "cell_type": "code",
   "execution_count": 44,
   "id": "86d70ecf-d64e-4517-bb77-e73432ecd72b",
   "metadata": {},
   "outputs": [],
   "source": [
    "\n",
    "#TRAINING\n",
    "for epoch in range(50):\n",
    "    total_loss = 0\n",
    "\n",
    "    for context, target in data:\n",
    "        context_vector = make_context_vector(context, word_to_ix)  \n",
    "\n",
    "        log_probs = model(context_vector)\n",
    "\n",
    "        total_loss += loss_function(log_probs, torch.tensor([word_to_ix[target]]))\n",
    "\n",
    "    #optimize at the end of each epoch\n",
    "    optimizer.zero_grad()\n",
    "    total_loss.backward()\n",
    "    optimizer.step()"
   ]
  },
  {
   "cell_type": "code",
   "execution_count": 45,
   "id": "7d1221fa-7f3a-4e80-b6bb-96961a0bb560",
   "metadata": {},
   "outputs": [],
   "source": [
    "#TESTING\n",
    "context = ['controlled', 'trial', 'study', 'designed'] # target = randomised\n",
    "context_vector = make_context_vector(context, word_to_ix)\n",
    "a = model(context_vector)\n"
   ]
  },
  {
   "cell_type": "code",
   "execution_count": 46,
   "id": "49fa0968-4f29-4d05-88ce-896d4c7fbb81",
   "metadata": {},
   "outputs": [
    {
     "name": "stdout",
     "output_type": "stream",
     "text": [
      "Raw text: This paper describes the design and evaluation of Positive Outlook an online program aiming to enhance the self-management skills of gay men living with HIV This study is designed as a randomised controlled trial in which men living with HIV in Australia will be assigned to either an intervention group or usual care control group The intervention group will participate in the online group program ` Positive Outlook ' The program is based on self-efficacy theory and uses a self-management approach to enhance skills confidence and abilities to manage the psychosocial issues associated with HIV in daily life Participants will access the program for a minimum of 90 minutes per week over seven weeks Primary outcomes are domain specific self-efficacy HIV related quality of life and outcomes of health education Secondary outcomes include depression anxiety and stress general health and quality of life adjustment to HIV and social support Data collection will take place at baseline completion of the intervention or eight weeks post randomisation and at 12 week follow-up Results of the Positive Outlook study will provide information regarding the effectiveness of online group programs improving health related outcomes for men living with HIV The aim of this study was to evaluate the efficacy safety and complications of orbital steroid injection versus oral steroid therapy in the management of thyroid-related ophthalmopathy A total of 29 patients suffering from thyroid ophthalmopathy were included in this study Patients were randomized into two groups group I included 15 patients treated with oral prednisolone and group II included 14 patients treated with peribulbar triamcinolone orbital injection Only 12 patients in both groups 16 female and 8 male completed the study Both groups showed improvement in symptoms and in clinical evidence of inflammation with improvement of eye movement and proptosis in most cases Mean exophthalmometry value before treatment was 226 198 mm that decreased to 186 0996 mm in group I compared with 23 186 mm that decreased to 1908 116 mm in group II Mean initial clinical activity score was 475 12 and 5 13 for group I and group II before treatment respectively which dropped to 083 12 and 083 102 6 months after treatment respectively There was no change in the best-corrected visual acuity in both groups There was an increase in body weight blood sugar blood pressure and gastritis in group I in 667 % 333 % 50 % and 75 % respectively compared with 0 % 0 % 83 % and 83 % in group II No adverse local side effects were observed in group II Orbital steroid injection for thyroid-related ophthalmopathy is effective and safe It eliminates the adverse reactions associated with oral corticosteroid use The aim of this prospective randomized study was to examine whether active counseling and more liberal oral fluid intake decrease postoperative pain nausea and vomiting in pediatric ambulatory tonsillectomy Families whose child was admitted for ambulatory tonsillectomy or adenotonsillectomy were randomly assigned to the study groups n = 116 58 families in each group The intervention group received the fasting instructions with face-to-face counseling for the child 's active preoperative nutrition and the control group the fasting instructions according to the hospital 's standard procedure The level of postoperative pain and nausea was scored in the postanesthesia care unit PACU during the first postoperative hour as well as at 2 4 8 and 24h postoperatively The first scoring in PACU was performed by the attending nurse with a 0-10 scale The rest of the estimations were made independently and simultaneously by the children using a VAS scale and by the parents using a 0-10 scale The children in the control group were in more pain in the PACU than the children in the intervention group and the difference between the groups was statistically significant p = 00002 All pain scores according to the children and the parents increased after the surgery In both groups the highest score values were found at home 8h after surgery and no significant difference was found between the study groups On the first postoperative morning the children in the control group were in pain p = 0047 The children did not have significant nausea in the PACU but the nausea increased postoperatively Four hours after surgery the children were most nauseous according to all estimations 60 % n = 116 More than half of the children vomited and most vomited clotted blood Nausea and vomiting decreased during the evening of the surgery but six children vomited the next morning four of them vomited blood The incidence and intensity of postoperative nausea and vomiting between the intervention and control groups were not statistically significant However preoperative nutritional counseling and more liberal per oral fluid intake appeared to have a positive effect on the children 's well-being and helped them to better tolerate postoperative nausea and vomiting The preoperative counseling about active preoperative nutrition significantly reduces the child 's pain during the first posttonsillectomy hours and might prepare the child to better tolerate the stress of potential postoperative nausea and vomiting To explore the effects of GengNianLe GNL also called perimenopausal depression relieving formula a defined formula of Chinese medicinal herbs in relieving perimenopausal depression in Chinese women Between September 2004 and April 2008 47 Chinese women were randomized into a GNL group n = 21 and a control group which received tibolone n = 26 using a randomization chart Depression was rated with the 24-item Hamilton Depression Scale HAMD The serum levels of follicle stimulating hormone FSH luteinizing hormone LH and estradiol E 2 were detected before and after the treatment After 12 weeks of treatment HAMD scores in both groups decreased significantly p < 005 with no significant difference between the groups p > 005 The levels of FSH decreased significantly and the level of E 2 increased significantly in both groups and they changed more in the control group No side-effect of treatment was reported in either group during treatment The Chinese medicinal formula GNL showed promise in relieving perimenopausal depression and merits further study Topical formulations of nonsteroidal anti-inflammatory drugs NSAIDs are generally considered to be safer alternatives to oral NSAIDs due to lower systemic absorption We conducted randomized crossover studies that compared the pharmacokinetics PK bioequivalence and safety of topical diclofenac sodium 2 % twice daily BID diclofenac sodium 15 % four times daily QID and oral diclofenac sodium in healthy subjects The results of three bioequivalence studies are reviewed\n",
      "\n",
      "Context: ['controlled', 'trial', 'study', 'designed']\n",
      "\n",
      "Prediction: the\n"
     ]
    }
   ],
   "source": [
    "#Print result\n",
    "print(f'Raw text: {\" \".join(raw_text)}\\n')\n",
    "print(f'Context: {context}\\n')\n",
    "print(f'Prediction: {ix_to_word[torch.argmax(a[0]).item()]}')"
   ]
  },
  {
   "cell_type": "code",
   "execution_count": 47,
   "id": "b2ebf8ff-d1a5-4feb-83f8-c3d0f7c9fd93",
   "metadata": {},
   "outputs": [],
   "source": [
    "from gensim.models import word2vec, FastText\n",
    "import pandas as pd\n",
    "import re\n",
    "\n",
    "from sklearn.decomposition import PCA\n",
    "\n",
    "from matplotlib import pyplot as plt\n",
    "import plotly.graph_objects as go\n",
    "\n",
    "import numpy as np\n",
    "\n",
    "import warnings\n",
    "warnings.filterwarnings('ignore')\n",
    "from gensim.models.word2vec import Word2Vec\n",
    "\n",
    "\n",
    "\n",
    "import gensim\n",
    "import numpy as np\n",
    "import matplotlib.pyplot as plt\n",
    "\n",
    "from sklearn.manifold import TSNE\n",
    "\n",
    "import gensim.downloader as api\n",
    "from gensim.models import KeyedVectors\n",
    "from gensim.models.word2vec import Word2Vec\n",
    "\n",
    "df = train_data_sample"
   ]
  },
  {
   "cell_type": "code",
   "execution_count": 48,
   "id": "f9cb845d-adcc-4d6e-866a-feeba669f2b1",
   "metadata": {},
   "outputs": [],
   "source": [
    "from itertools import islice"
   ]
  },
  {
   "cell_type": "code",
   "execution_count": 49,
   "id": "8ed01598-df29-4a75-b874-0c025c7ca939",
   "metadata": {},
   "outputs": [],
   "source": [
    "#train_data_sample"
   ]
  },
  {
   "cell_type": "code",
   "execution_count": 50,
   "id": "044bdf48-5672-4004-b949-eb1457b3cc1e",
   "metadata": {},
   "outputs": [],
   "source": [
    "sample_1_list = (train_data_sample['text']).tolist()\n",
    "#print(sample_1_list)\n",
    "\n",
    "\n",
    "\n",
    "\n",
    "sentences = sample_1_list\n"
   ]
  },
  {
   "cell_type": "code",
   "execution_count": 51,
   "id": "71f2dd81-453f-49f8-9858-538e98be15ea",
   "metadata": {},
   "outputs": [],
   "source": [
    "#sentences = sentences.strip()\n",
    "#sentences"
   ]
  },
  {
   "cell_type": "code",
   "execution_count": 52,
   "id": "481baf44-2bc0-4a90-821f-393c6135dbbe",
   "metadata": {},
   "outputs": [],
   "source": [
    "#sentences =' '.join(map(str, sentences))\n",
    "\n",
    "for i, sentence in enumerate(sentences):\n",
    "    #sentence = sentence.strip('.,();:')\n",
    "    sentence = sentence.replace(',','')\n",
    "    sentence = sentence.replace('.','')\n",
    "    sentence = sentence.replace('(','')\n",
    "    sentence = sentence.replace(')','')\n",
    "    sentence = sentence.replace(';','')\n",
    "    sentence = sentence.replace(':','')\n",
    "    sentence = sentence.split()\n",
    "    \n",
    "    sentences[i] = sentence\n",
    "    \n",
    "#sentences = sentences.split()\n",
    "#sentences"
   ]
  },
  {
   "cell_type": "code",
   "execution_count": 53,
   "id": "b885de22-4ece-4cbb-8ad3-a8c99d0abeaf",
   "metadata": {},
   "outputs": [],
   "source": [
    "#sentences"
   ]
  },
  {
   "cell_type": "code",
   "execution_count": 54,
   "id": "e3e7c604-a4c7-4e45-9d64-8722a28c314a",
   "metadata": {},
   "outputs": [
    {
     "name": "stdout",
     "output_type": "stream",
     "text": [
      "Word2Vec(vocab=441, vector_size=5, alpha=0.025)\n"
     ]
    }
   ],
   "source": [
    "w2v = Word2Vec(sentences, min_count=1, vector_size = 5)\n",
    "\n",
    "print(w2v)"
   ]
  },
  {
   "cell_type": "code",
   "execution_count": 55,
   "id": "e30e7407-7160-40bc-a5d4-72458a5196b6",
   "metadata": {},
   "outputs": [
    {
     "name": "stdout",
     "output_type": "stream",
     "text": [
      "word #0/441 is the\n",
      "word #1/441 is and\n",
      "word #2/441 is in\n",
      "word #3/441 is of\n",
      "word #4/441 is group\n",
      "word #5/441 is to\n",
      "word #6/441 is The\n",
      "word #7/441 is with\n",
      "word #8/441 is was\n",
      "word #9/441 is groups\n"
     ]
    }
   ],
   "source": [
    "# Loop through the first 10 words - you can probably guess that they are listed by frequencies.\n",
    "for index, word in enumerate(w2v.wv.index_to_key):\n",
    "    if index == 10:\n",
    "        break\n",
    "    print(f\"word #{index}/{len(w2v.wv.index_to_key)} is {word}\")"
   ]
  },
  {
   "cell_type": "code",
   "execution_count": 56,
   "id": "fc37e60d-2409-438b-a8e4-23c9dbe4b0ac",
   "metadata": {},
   "outputs": [
    {
     "data": {
      "text/plain": [
       "array([-0.16594349,  0.01677216,  0.0646208 ,  0.1261826 , -0.05448373],\n",
       "      dtype=float32)"
      ]
     },
     "execution_count": 56,
     "metadata": {},
     "output_type": "execute_result"
    }
   ],
   "source": [
    "# Chuck in some words\n",
    "w2v.wv[\"randomised\"]"
   ]
  },
  {
   "cell_type": "code",
   "execution_count": 57,
   "id": "400dabfd-9cd6-427c-add2-df8d1ba55782",
   "metadata": {},
   "outputs": [
    {
     "data": {
      "text/plain": [
       "[('detected', 0.9705499410629272),\n",
       " ('completion', 0.9463170170783997),\n",
       " ('formulations', 0.9320744872093201),\n",
       " ('assigned', 0.9223210215568542),\n",
       " ('BID', 0.882068395614624),\n",
       " ('Participants', 0.8669648766517639),\n",
       " ('well', 0.8648950457572937),\n",
       " ('controlled', 0.861993670463562),\n",
       " ('included', 0.8425852656364441),\n",
       " ('steroid', 0.8127044439315796)]"
      ]
     },
     "execution_count": 57,
     "metadata": {},
     "output_type": "execute_result"
    }
   ],
   "source": [
    "w2v.wv.most_similar(\"randomised\") # Note this is slow to run if your corpus is very large."
   ]
  },
  {
   "cell_type": "code",
   "execution_count": 58,
   "id": "d00a46cd-06df-4ae3-b4e1-a3dcb88afaf1",
   "metadata": {},
   "outputs": [],
   "source": [
    "model = w2v\n",
    "# Original codes - take 'model' as input, not word vectors\n",
    "def tsne_plot(model, no_words=100):\n",
    "    \"Creates and TSNE model and plots it\"\n",
    "    labels = []\n",
    "    tokens = []\n",
    "\n",
    "    for i, word in enumerate(model.wv.index_to_key):\n",
    "        tokens.append(model.wv[word])\n",
    "        labels.append(word)\n",
    "        if i == no_words:\n",
    "            break\n",
    "    \n",
    "    tsne_model = TSNE(perplexity=40, n_components=2, init='pca', n_iter=2500, random_state=23)\n",
    "    new_values = tsne_model.fit_transform(tokens)\n",
    "\n",
    "    x = []\n",
    "    y = []\n",
    "    for value in new_values:\n",
    "        x.append(value[0])\n",
    "        y.append(value[1])\n",
    "        \n",
    "    plt.figure(figsize=(16, 16)) \n",
    "    for i in range(len(x)):\n",
    "        plt.scatter(x[i],y[i])\n",
    "        plt.annotate(labels[i],\n",
    "                     xy=(x[i], y[i]),\n",
    "                     xytext=(5, 2),\n",
    "                     textcoords='offset points',\n",
    "                     ha='right',\n",
    "                     va='bottom')\n",
    "    plt.show()"
   ]
  },
  {
   "cell_type": "code",
   "execution_count": 59,
   "id": "a0e40928-24eb-4c0d-b248-532e8dcda6c6",
   "metadata": {},
   "outputs": [],
   "source": [
    "# Take word vectors as input\n",
    "def tsne_plot(model_wv, no_words=100):\n",
    "    \"Creates and TSNE model and plots it\"\n",
    "    labels = []\n",
    "    tokens = []\n",
    "\n",
    "    for i, word in enumerate(model_wv.index_to_key):\n",
    "        tokens.append(model_wv[word])\n",
    "        labels.append(word)\n",
    "        if i == no_words:\n",
    "            break\n",
    "    \n",
    "    tsne_model = TSNE(perplexity=40, n_components=2, init='pca', n_iter=2500, random_state=23)\n",
    "    new_values = tsne_model.fit_transform(tokens)\n",
    "\n",
    "    x = []\n",
    "    y = []\n",
    "    for value in new_values:\n",
    "        x.append(value[0])\n",
    "        y.append(value[1])\n",
    "        \n",
    "    plt.figure(figsize=(16, 16)) \n",
    "    for i in range(len(x)):\n",
    "        plt.scatter(x[i],y[i])\n",
    "        plt.annotate(labels[i],\n",
    "                     xy=(x[i], y[i]),\n",
    "                     xytext=(5, 2),\n",
    "                     textcoords='offset points',\n",
    "                     ha='right',\n",
    "                     va='bottom')\n",
    "    plt.show()"
   ]
  },
  {
   "cell_type": "code",
   "execution_count": 60,
   "id": "b1cba11b-4e5a-471c-8b00-9bfa20eb5782",
   "metadata": {
    "tags": []
   },
   "outputs": [
    {
     "data": {
      "image/png": "[encoded data removed]",
      "text/plain": [
       "<Figure size 1152x1152 with 1 Axes>"
      ]
     },
     "metadata": {
      "needs_background": "light"
     },
     "output_type": "display_data"
    }
   ],
   "source": [
    "tsne_plot(model.wv, no_words=100)"
   ]
  },
  {
   "cell_type": "code",
   "execution_count": 61,
   "id": "2e86c949-0711-468d-b90e-9108518508d7",
   "metadata": {},
   "outputs": [],
   "source": [
    "#!python -m spacy download en_core_web_sm"
   ]
  },
  {
   "cell_type": "code",
   "execution_count": 62,
   "id": "e7c0d8f5-18e2-4d96-b8fa-13ce1fb4b090",
   "metadata": {},
   "outputs": [],
   "source": [
    "# Trying NER\n",
    "\n",
    "import spacy\n",
    "from spacy import displacy\n",
    "\n",
    "NER = spacy.load(\"en_core_web_sm\")"
   ]
  },
  {
   "cell_type": "code",
   "execution_count": 63,
   "id": "034d3d80-8643-4c1c-b3b2-7c73bb72c987",
   "metadata": {},
   "outputs": [],
   "source": [
    "#raw_text\n",
    "raw_one =' '.join(raw_text)\n",
    "#raw_one"
   ]
  },
  {
   "cell_type": "code",
   "execution_count": 64,
   "id": "09a1f6f0-7a17-4cd2-8696-1c705b359cfb",
   "metadata": {},
   "outputs": [],
   "source": [
    "raw_text = raw_one\n",
    "text1= NER(raw_text)"
   ]
  },
  {
   "cell_type": "code",
   "execution_count": 65,
   "id": "5395d968-d6b0-4d64-9d34-d243be622aed",
   "metadata": {},
   "outputs": [
    {
     "name": "stdout",
     "output_type": "stream",
     "text": [
      "Positive Outlook ORG\n",
      "Australia GPE\n",
      "Positive Outlook ' The program WORK_OF_ART\n",
      "daily DATE\n",
      "Participants ORG\n",
      "90 minutes TIME\n",
      "seven weeks DATE\n",
      "Secondary ORDINAL\n",
      "Data ORG\n",
      "eight weeks DATE\n",
      "12 week DATE\n",
      "Positive Outlook GPE\n",
      "29 CARDINAL\n",
      "two CARDINAL\n",
      "15 CARDINAL\n",
      "II CARDINAL\n",
      "14 CARDINAL\n",
      "Only 12 CARDINAL\n",
      "16 female QUANTITY\n",
      "8 CARDINAL\n",
      "226 198 mm QUANTITY\n",
      "186 0996 mm QUANTITY\n",
      "23 186 mm QUANTITY\n",
      "1908 116 mm QUANTITY\n",
      "II CARDINAL\n",
      "475 12 DATE\n",
      "II CARDINAL\n",
      "083 12 CARDINAL\n",
      "6 months DATE\n",
      "667 % PERCENT\n",
      "333 % PERCENT\n",
      "50 % and 75 % PERCENT\n",
      "0 % PERCENT\n",
      "0 % PERCENT\n",
      "83 % and 83 % PERCENT\n",
      "II CARDINAL\n",
      "II Orbital PRODUCT\n",
      "116 CARDINAL\n",
      "58 CARDINAL\n",
      "PACU PERSON\n",
      "the first postoperative hour TIME\n",
      "2 4 8 and 24h DATE\n",
      "first ORDINAL\n",
      "PACU ORG\n",
      "0 CARDINAL\n",
      "0 CARDINAL\n",
      "PACU ORG\n",
      "00002 DATE\n",
      "8h CARDINAL\n",
      "first ORDINAL\n",
      "PACU ORG\n",
      "Four hours TIME\n",
      "60 % PERCENT\n",
      "116 CARDINAL\n",
      "More than half CARDINAL\n",
      "the evening TIME\n",
      "six CARDINAL\n",
      "four CARDINAL\n",
      "first ORDINAL\n",
      "GNL ORG\n",
      "Chinese NORP\n",
      "Chinese NORP\n",
      "Between September 2004 DATE\n",
      "April 2008 DATE\n",
      "47 DATE\n",
      "Chinese NORP\n",
      "GNL ORG\n",
      "21 CARDINAL\n",
      "26 CARDINAL\n",
      "24 CARDINAL\n",
      "Hamilton PERSON\n",
      "Scale HAMD PERSON\n",
      "FSH ORG\n",
      "2 CARDINAL\n",
      "12 weeks DATE\n",
      "HAMD ORG\n",
      "005 CARDINAL\n",
      "FSH ORG\n",
      "2 CARDINAL\n",
      "Chinese NORP\n",
      "GNL ORG\n",
      "NSAIDs ORG\n",
      "2 % PERCENT\n",
      "daily DATE\n",
      "BID ORG\n",
      "15 % PERCENT\n",
      "four CARDINAL\n",
      "daily DATE\n",
      "three CARDINAL\n"
     ]
    }
   ],
   "source": [
    "for word in text1.ents:\n",
    "    print(word.text,word.label_)"
   ]
  },
  {
   "cell_type": "code",
   "execution_count": 66,
   "id": "41399edb-0827-4957-90dd-d13453bcf770",
   "metadata": {},
   "outputs": [
    {
     "data": {
      "text/html": [
       "<span class=\"tex2jax_ignore\"><div class=\"entities\" style=\"line-height: 2.5; direction: ltr\">This paper describes the design and evaluation of \n",
       "<mark class=\"entity\" style=\"background: #7aecec; padding: 0.45em 0.6em; margin: 0 0.25em; line-height: 1; border-radius: 0.35em;\">\n",
       "    Positive Outlook\n",
       "    <span style=\"font-size: 0.8em; font-weight: bold; line-height: 1; border-radius: 0.35em; vertical-align: middle; margin-left: 0.5rem\">ORG</span>\n",
       "</mark>\n",
       " an online program aiming to enhance the self-management skills of gay men living with HIV This study is designed as a randomised controlled trial in which men living with HIV in \n",
       "<mark class=\"entity\" style=\"background: #feca74; padding: 0.45em 0.6em; margin: 0 0.25em; line-height: 1; border-radius: 0.35em;\">\n",
       "    Australia\n",
       "    <span style=\"font-size: 0.8em; font-weight: bold; line-height: 1; border-radius: 0.35em; vertical-align: middle; margin-left: 0.5rem\">GPE</span>\n",
       "</mark>\n",
       " will be assigned to either an intervention group or usual care control group The intervention group will participate in the online group program ` \n",
       "<mark class=\"entity\" style=\"background: #f0d0ff; padding: 0.45em 0.6em; margin: 0 0.25em; line-height: 1; border-radius: 0.35em;\">\n",
       "    Positive Outlook ' The program\n",
       "    <span style=\"font-size: 0.8em; font-weight: bold; line-height: 1; border-radius: 0.35em; vertical-align: middle; margin-left: 0.5rem\">WORK_OF_ART</span>\n",
       "</mark>\n",
       " is based on self-efficacy theory and uses a self-management approach to enhance skills confidence and abilities to manage the psychosocial issues associated with HIV in \n",
       "<mark class=\"entity\" style=\"background: #bfe1d9; padding: 0.45em 0.6em; margin: 0 0.25em; line-height: 1; border-radius: 0.35em;\">\n",
       "    daily\n",
       "    <span style=\"font-size: 0.8em; font-weight: bold; line-height: 1; border-radius: 0.35em; vertical-align: middle; margin-left: 0.5rem\">DATE</span>\n",
       "</mark>\n",
       " life \n",
       "<mark class=\"entity\" style=\"background: #7aecec; padding: 0.45em 0.6em; margin: 0 0.25em; line-height: 1; border-radius: 0.35em;\">\n",
       "    Participants\n",
       "    <span style=\"font-size: 0.8em; font-weight: bold; line-height: 1; border-radius: 0.35em; vertical-align: middle; margin-left: 0.5rem\">ORG</span>\n",
       "</mark>\n",
       " will access the program for a minimum of \n",
       "<mark class=\"entity\" style=\"background: #bfe1d9; padding: 0.45em 0.6em; margin: 0 0.25em; line-height: 1; border-radius: 0.35em;\">\n",
       "    90 minutes\n",
       "    <span style=\"font-size: 0.8em; font-weight: bold; line-height: 1; border-radius: 0.35em; vertical-align: middle; margin-left: 0.5rem\">TIME</span>\n",
       "</mark>\n",
       " per week over \n",
       "<mark class=\"entity\" style=\"background: #bfe1d9; padding: 0.45em 0.6em; margin: 0 0.25em; line-height: 1; border-radius: 0.35em;\">\n",
       "    seven weeks\n",
       "    <span style=\"font-size: 0.8em; font-weight: bold; line-height: 1; border-radius: 0.35em; vertical-align: middle; margin-left: 0.5rem\">DATE</span>\n",
       "</mark>\n",
       " Primary outcomes are domain specific self-efficacy HIV related quality of life and outcomes of health education \n",
       "<mark class=\"entity\" style=\"background: #e4e7d2; padding: 0.45em 0.6em; margin: 0 0.25em; line-height: 1; border-radius: 0.35em;\">\n",
       "    Secondary\n",
       "    <span style=\"font-size: 0.8em; font-weight: bold; line-height: 1; border-radius: 0.35em; vertical-align: middle; margin-left: 0.5rem\">ORDINAL</span>\n",
       "</mark>\n",
       " outcomes include depression anxiety and stress general health and quality of life adjustment to HIV and social support \n",
       "<mark class=\"entity\" style=\"background: #7aecec; padding: 0.45em 0.6em; margin: 0 0.25em; line-height: 1; border-radius: 0.35em;\">\n",
       "    Data\n",
       "    <span style=\"font-size: 0.8em; font-weight: bold; line-height: 1; border-radius: 0.35em; vertical-align: middle; margin-left: 0.5rem\">ORG</span>\n",
       "</mark>\n",
       " collection will take place at baseline completion of the intervention or \n",
       "<mark class=\"entity\" style=\"background: #bfe1d9; padding: 0.45em 0.6em; margin: 0 0.25em; line-height: 1; border-radius: 0.35em;\">\n",
       "    eight weeks\n",
       "    <span style=\"font-size: 0.8em; font-weight: bold; line-height: 1; border-radius: 0.35em; vertical-align: middle; margin-left: 0.5rem\">DATE</span>\n",
       "</mark>\n",
       " post randomisation and at \n",
       "<mark class=\"entity\" style=\"background: #bfe1d9; padding: 0.45em 0.6em; margin: 0 0.25em; line-height: 1; border-radius: 0.35em;\">\n",
       "    12 week\n",
       "    <span style=\"font-size: 0.8em; font-weight: bold; line-height: 1; border-radius: 0.35em; vertical-align: middle; margin-left: 0.5rem\">DATE</span>\n",
       "</mark>\n",
       " follow-up Results of the \n",
       "<mark class=\"entity\" style=\"background: #feca74; padding: 0.45em 0.6em; margin: 0 0.25em; line-height: 1; border-radius: 0.35em;\">\n",
       "    Positive Outlook\n",
       "    <span style=\"font-size: 0.8em; font-weight: bold; line-height: 1; border-radius: 0.35em; vertical-align: middle; margin-left: 0.5rem\">GPE</span>\n",
       "</mark>\n",
       " study will provide information regarding the effectiveness of online group programs improving health related outcomes for men living with HIV The aim of this study was to evaluate the efficacy safety and complications of orbital steroid injection versus oral steroid therapy in the management of thyroid-related ophthalmopathy A total of \n",
       "<mark class=\"entity\" style=\"background: #e4e7d2; padding: 0.45em 0.6em; margin: 0 0.25em; line-height: 1; border-radius: 0.35em;\">\n",
       "    29\n",
       "    <span style=\"font-size: 0.8em; font-weight: bold; line-height: 1; border-radius: 0.35em; vertical-align: middle; margin-left: 0.5rem\">CARDINAL</span>\n",
       "</mark>\n",
       " patients suffering from thyroid ophthalmopathy were included in this study Patients were randomized into \n",
       "<mark class=\"entity\" style=\"background: #e4e7d2; padding: 0.45em 0.6em; margin: 0 0.25em; line-height: 1; border-radius: 0.35em;\">\n",
       "    two\n",
       "    <span style=\"font-size: 0.8em; font-weight: bold; line-height: 1; border-radius: 0.35em; vertical-align: middle; margin-left: 0.5rem\">CARDINAL</span>\n",
       "</mark>\n",
       " groups group I included \n",
       "<mark class=\"entity\" style=\"background: #e4e7d2; padding: 0.45em 0.6em; margin: 0 0.25em; line-height: 1; border-radius: 0.35em;\">\n",
       "    15\n",
       "    <span style=\"font-size: 0.8em; font-weight: bold; line-height: 1; border-radius: 0.35em; vertical-align: middle; margin-left: 0.5rem\">CARDINAL</span>\n",
       "</mark>\n",
       " patients treated with oral prednisolone and group \n",
       "<mark class=\"entity\" style=\"background: #e4e7d2; padding: 0.45em 0.6em; margin: 0 0.25em; line-height: 1; border-radius: 0.35em;\">\n",
       "    II\n",
       "    <span style=\"font-size: 0.8em; font-weight: bold; line-height: 1; border-radius: 0.35em; vertical-align: middle; margin-left: 0.5rem\">CARDINAL</span>\n",
       "</mark>\n",
       " included \n",
       "<mark class=\"entity\" style=\"background: #e4e7d2; padding: 0.45em 0.6em; margin: 0 0.25em; line-height: 1; border-radius: 0.35em;\">\n",
       "    14\n",
       "    <span style=\"font-size: 0.8em; font-weight: bold; line-height: 1; border-radius: 0.35em; vertical-align: middle; margin-left: 0.5rem\">CARDINAL</span>\n",
       "</mark>\n",
       " patients treated with peribulbar triamcinolone orbital injection \n",
       "<mark class=\"entity\" style=\"background: #e4e7d2; padding: 0.45em 0.6em; margin: 0 0.25em; line-height: 1; border-radius: 0.35em;\">\n",
       "    Only 12\n",
       "    <span style=\"font-size: 0.8em; font-weight: bold; line-height: 1; border-radius: 0.35em; vertical-align: middle; margin-left: 0.5rem\">CARDINAL</span>\n",
       "</mark>\n",
       " patients in both groups \n",
       "<mark class=\"entity\" style=\"background: #e4e7d2; padding: 0.45em 0.6em; margin: 0 0.25em; line-height: 1; border-radius: 0.35em;\">\n",
       "    16 female\n",
       "    <span style=\"font-size: 0.8em; font-weight: bold; line-height: 1; border-radius: 0.35em; vertical-align: middle; margin-left: 0.5rem\">QUANTITY</span>\n",
       "</mark>\n",
       " and \n",
       "<mark class=\"entity\" style=\"background: #e4e7d2; padding: 0.45em 0.6em; margin: 0 0.25em; line-height: 1; border-radius: 0.35em;\">\n",
       "    8\n",
       "    <span style=\"font-size: 0.8em; font-weight: bold; line-height: 1; border-radius: 0.35em; vertical-align: middle; margin-left: 0.5rem\">CARDINAL</span>\n",
       "</mark>\n",
       " male completed the study Both groups showed improvement in symptoms and in clinical evidence of inflammation with improvement of eye movement and proptosis in most cases Mean exophthalmometry value before treatment was \n",
       "<mark class=\"entity\" style=\"background: #e4e7d2; padding: 0.45em 0.6em; margin: 0 0.25em; line-height: 1; border-radius: 0.35em;\">\n",
       "    226 198 mm\n",
       "    <span style=\"font-size: 0.8em; font-weight: bold; line-height: 1; border-radius: 0.35em; vertical-align: middle; margin-left: 0.5rem\">QUANTITY</span>\n",
       "</mark>\n",
       " that decreased to \n",
       "<mark class=\"entity\" style=\"background: #e4e7d2; padding: 0.45em 0.6em; margin: 0 0.25em; line-height: 1; border-radius: 0.35em;\">\n",
       "    186 0996 mm\n",
       "    <span style=\"font-size: 0.8em; font-weight: bold; line-height: 1; border-radius: 0.35em; vertical-align: middle; margin-left: 0.5rem\">QUANTITY</span>\n",
       "</mark>\n",
       " in group I compared with \n",
       "<mark class=\"entity\" style=\"background: #e4e7d2; padding: 0.45em 0.6em; margin: 0 0.25em; line-height: 1; border-radius: 0.35em;\">\n",
       "    23 186 mm\n",
       "    <span style=\"font-size: 0.8em; font-weight: bold; line-height: 1; border-radius: 0.35em; vertical-align: middle; margin-left: 0.5rem\">QUANTITY</span>\n",
       "</mark>\n",
       " that decreased to \n",
       "<mark class=\"entity\" style=\"background: #e4e7d2; padding: 0.45em 0.6em; margin: 0 0.25em; line-height: 1; border-radius: 0.35em;\">\n",
       "    1908 116 mm\n",
       "    <span style=\"font-size: 0.8em; font-weight: bold; line-height: 1; border-radius: 0.35em; vertical-align: middle; margin-left: 0.5rem\">QUANTITY</span>\n",
       "</mark>\n",
       " in group \n",
       "<mark class=\"entity\" style=\"background: #e4e7d2; padding: 0.45em 0.6em; margin: 0 0.25em; line-height: 1; border-radius: 0.35em;\">\n",
       "    II\n",
       "    <span style=\"font-size: 0.8em; font-weight: bold; line-height: 1; border-radius: 0.35em; vertical-align: middle; margin-left: 0.5rem\">CARDINAL</span>\n",
       "</mark>\n",
       " Mean initial clinical activity score was \n",
       "<mark class=\"entity\" style=\"background: #bfe1d9; padding: 0.45em 0.6em; margin: 0 0.25em; line-height: 1; border-radius: 0.35em;\">\n",
       "    475 12\n",
       "    <span style=\"font-size: 0.8em; font-weight: bold; line-height: 1; border-radius: 0.35em; vertical-align: middle; margin-left: 0.5rem\">DATE</span>\n",
       "</mark>\n",
       " and 5 13 for group I and group \n",
       "<mark class=\"entity\" style=\"background: #e4e7d2; padding: 0.45em 0.6em; margin: 0 0.25em; line-height: 1; border-radius: 0.35em;\">\n",
       "    II\n",
       "    <span style=\"font-size: 0.8em; font-weight: bold; line-height: 1; border-radius: 0.35em; vertical-align: middle; margin-left: 0.5rem\">CARDINAL</span>\n",
       "</mark>\n",
       " before treatment respectively which dropped to \n",
       "<mark class=\"entity\" style=\"background: #e4e7d2; padding: 0.45em 0.6em; margin: 0 0.25em; line-height: 1; border-radius: 0.35em;\">\n",
       "    083 12\n",
       "    <span style=\"font-size: 0.8em; font-weight: bold; line-height: 1; border-radius: 0.35em; vertical-align: middle; margin-left: 0.5rem\">CARDINAL</span>\n",
       "</mark>\n",
       " and 083 102 \n",
       "<mark class=\"entity\" style=\"background: #bfe1d9; padding: 0.45em 0.6em; margin: 0 0.25em; line-height: 1; border-radius: 0.35em;\">\n",
       "    6 months\n",
       "    <span style=\"font-size: 0.8em; font-weight: bold; line-height: 1; border-radius: 0.35em; vertical-align: middle; margin-left: 0.5rem\">DATE</span>\n",
       "</mark>\n",
       " after treatment respectively There was no change in the best-corrected visual acuity in both groups There was an increase in body weight blood sugar blood pressure and gastritis in group I in \n",
       "<mark class=\"entity\" style=\"background: #e4e7d2; padding: 0.45em 0.6em; margin: 0 0.25em; line-height: 1; border-radius: 0.35em;\">\n",
       "    667 %\n",
       "    <span style=\"font-size: 0.8em; font-weight: bold; line-height: 1; border-radius: 0.35em; vertical-align: middle; margin-left: 0.5rem\">PERCENT</span>\n",
       "</mark>\n",
       " \n",
       "<mark class=\"entity\" style=\"background: #e4e7d2; padding: 0.45em 0.6em; margin: 0 0.25em; line-height: 1; border-radius: 0.35em;\">\n",
       "    333 %\n",
       "    <span style=\"font-size: 0.8em; font-weight: bold; line-height: 1; border-radius: 0.35em; vertical-align: middle; margin-left: 0.5rem\">PERCENT</span>\n",
       "</mark>\n",
       " \n",
       "<mark class=\"entity\" style=\"background: #e4e7d2; padding: 0.45em 0.6em; margin: 0 0.25em; line-height: 1; border-radius: 0.35em;\">\n",
       "    50 % and 75 %\n",
       "    <span style=\"font-size: 0.8em; font-weight: bold; line-height: 1; border-radius: 0.35em; vertical-align: middle; margin-left: 0.5rem\">PERCENT</span>\n",
       "</mark>\n",
       " respectively compared with \n",
       "<mark class=\"entity\" style=\"background: #e4e7d2; padding: 0.45em 0.6em; margin: 0 0.25em; line-height: 1; border-radius: 0.35em;\">\n",
       "    0 %\n",
       "    <span style=\"font-size: 0.8em; font-weight: bold; line-height: 1; border-radius: 0.35em; vertical-align: middle; margin-left: 0.5rem\">PERCENT</span>\n",
       "</mark>\n",
       " \n",
       "<mark class=\"entity\" style=\"background: #e4e7d2; padding: 0.45em 0.6em; margin: 0 0.25em; line-height: 1; border-radius: 0.35em;\">\n",
       "    0 %\n",
       "    <span style=\"font-size: 0.8em; font-weight: bold; line-height: 1; border-radius: 0.35em; vertical-align: middle; margin-left: 0.5rem\">PERCENT</span>\n",
       "</mark>\n",
       " \n",
       "<mark class=\"entity\" style=\"background: #e4e7d2; padding: 0.45em 0.6em; margin: 0 0.25em; line-height: 1; border-radius: 0.35em;\">\n",
       "    83 % and 83 %\n",
       "    <span style=\"font-size: 0.8em; font-weight: bold; line-height: 1; border-radius: 0.35em; vertical-align: middle; margin-left: 0.5rem\">PERCENT</span>\n",
       "</mark>\n",
       " in group \n",
       "<mark class=\"entity\" style=\"background: #e4e7d2; padding: 0.45em 0.6em; margin: 0 0.25em; line-height: 1; border-radius: 0.35em;\">\n",
       "    II\n",
       "    <span style=\"font-size: 0.8em; font-weight: bold; line-height: 1; border-radius: 0.35em; vertical-align: middle; margin-left: 0.5rem\">CARDINAL</span>\n",
       "</mark>\n",
       " No adverse local side effects were observed in group \n",
       "<mark class=\"entity\" style=\"background: #bfeeb7; padding: 0.45em 0.6em; margin: 0 0.25em; line-height: 1; border-radius: 0.35em;\">\n",
       "    II Orbital\n",
       "    <span style=\"font-size: 0.8em; font-weight: bold; line-height: 1; border-radius: 0.35em; vertical-align: middle; margin-left: 0.5rem\">PRODUCT</span>\n",
       "</mark>\n",
       " steroid injection for thyroid-related ophthalmopathy is effective and safe It eliminates the adverse reactions associated with oral corticosteroid use The aim of this prospective randomized study was to examine whether active counseling and more liberal oral fluid intake decrease postoperative pain nausea and vomiting in pediatric ambulatory tonsillectomy Families whose child was admitted for ambulatory tonsillectomy or adenotonsillectomy were randomly assigned to the study groups n = \n",
       "<mark class=\"entity\" style=\"background: #e4e7d2; padding: 0.45em 0.6em; margin: 0 0.25em; line-height: 1; border-radius: 0.35em;\">\n",
       "    116\n",
       "    <span style=\"font-size: 0.8em; font-weight: bold; line-height: 1; border-radius: 0.35em; vertical-align: middle; margin-left: 0.5rem\">CARDINAL</span>\n",
       "</mark>\n",
       " \n",
       "<mark class=\"entity\" style=\"background: #e4e7d2; padding: 0.45em 0.6em; margin: 0 0.25em; line-height: 1; border-radius: 0.35em;\">\n",
       "    58\n",
       "    <span style=\"font-size: 0.8em; font-weight: bold; line-height: 1; border-radius: 0.35em; vertical-align: middle; margin-left: 0.5rem\">CARDINAL</span>\n",
       "</mark>\n",
       " families in each group The intervention group received the fasting instructions with face-to-face counseling for the child 's active preoperative nutrition and the control group the fasting instructions according to the hospital 's standard procedure The level of postoperative pain and nausea was scored in the postanesthesia care unit \n",
       "<mark class=\"entity\" style=\"background: #aa9cfc; padding: 0.45em 0.6em; margin: 0 0.25em; line-height: 1; border-radius: 0.35em;\">\n",
       "    PACU\n",
       "    <span style=\"font-size: 0.8em; font-weight: bold; line-height: 1; border-radius: 0.35em; vertical-align: middle; margin-left: 0.5rem\">PERSON</span>\n",
       "</mark>\n",
       " during \n",
       "<mark class=\"entity\" style=\"background: #bfe1d9; padding: 0.45em 0.6em; margin: 0 0.25em; line-height: 1; border-radius: 0.35em;\">\n",
       "    the first postoperative hour\n",
       "    <span style=\"font-size: 0.8em; font-weight: bold; line-height: 1; border-radius: 0.35em; vertical-align: middle; margin-left: 0.5rem\">TIME</span>\n",
       "</mark>\n",
       " as well as at \n",
       "<mark class=\"entity\" style=\"background: #bfe1d9; padding: 0.45em 0.6em; margin: 0 0.25em; line-height: 1; border-radius: 0.35em;\">\n",
       "    2 4 8 and 24h\n",
       "    <span style=\"font-size: 0.8em; font-weight: bold; line-height: 1; border-radius: 0.35em; vertical-align: middle; margin-left: 0.5rem\">DATE</span>\n",
       "</mark>\n",
       " postoperatively The \n",
       "<mark class=\"entity\" style=\"background: #e4e7d2; padding: 0.45em 0.6em; margin: 0 0.25em; line-height: 1; border-radius: 0.35em;\">\n",
       "    first\n",
       "    <span style=\"font-size: 0.8em; font-weight: bold; line-height: 1; border-radius: 0.35em; vertical-align: middle; margin-left: 0.5rem\">ORDINAL</span>\n",
       "</mark>\n",
       " scoring in \n",
       "<mark class=\"entity\" style=\"background: #7aecec; padding: 0.45em 0.6em; margin: 0 0.25em; line-height: 1; border-radius: 0.35em;\">\n",
       "    PACU\n",
       "    <span style=\"font-size: 0.8em; font-weight: bold; line-height: 1; border-radius: 0.35em; vertical-align: middle; margin-left: 0.5rem\">ORG</span>\n",
       "</mark>\n",
       " was performed by the attending nurse with a \n",
       "<mark class=\"entity\" style=\"background: #e4e7d2; padding: 0.45em 0.6em; margin: 0 0.25em; line-height: 1; border-radius: 0.35em;\">\n",
       "    0\n",
       "    <span style=\"font-size: 0.8em; font-weight: bold; line-height: 1; border-radius: 0.35em; vertical-align: middle; margin-left: 0.5rem\">CARDINAL</span>\n",
       "</mark>\n",
       "-10 scale The rest of the estimations were made independently and simultaneously by the children using a VAS scale and by the parents using a \n",
       "<mark class=\"entity\" style=\"background: #e4e7d2; padding: 0.45em 0.6em; margin: 0 0.25em; line-height: 1; border-radius: 0.35em;\">\n",
       "    0\n",
       "    <span style=\"font-size: 0.8em; font-weight: bold; line-height: 1; border-radius: 0.35em; vertical-align: middle; margin-left: 0.5rem\">CARDINAL</span>\n",
       "</mark>\n",
       "-10 scale The children in the control group were in more pain in the \n",
       "<mark class=\"entity\" style=\"background: #7aecec; padding: 0.45em 0.6em; margin: 0 0.25em; line-height: 1; border-radius: 0.35em;\">\n",
       "    PACU\n",
       "    <span style=\"font-size: 0.8em; font-weight: bold; line-height: 1; border-radius: 0.35em; vertical-align: middle; margin-left: 0.5rem\">ORG</span>\n",
       "</mark>\n",
       " than the children in the intervention group and the difference between the groups was statistically significant p = \n",
       "<mark class=\"entity\" style=\"background: #bfe1d9; padding: 0.45em 0.6em; margin: 0 0.25em; line-height: 1; border-radius: 0.35em;\">\n",
       "    00002\n",
       "    <span style=\"font-size: 0.8em; font-weight: bold; line-height: 1; border-radius: 0.35em; vertical-align: middle; margin-left: 0.5rem\">DATE</span>\n",
       "</mark>\n",
       " All pain scores according to the children and the parents increased after the surgery In both groups the highest score values were found at home \n",
       "<mark class=\"entity\" style=\"background: #e4e7d2; padding: 0.45em 0.6em; margin: 0 0.25em; line-height: 1; border-radius: 0.35em;\">\n",
       "    8h\n",
       "    <span style=\"font-size: 0.8em; font-weight: bold; line-height: 1; border-radius: 0.35em; vertical-align: middle; margin-left: 0.5rem\">CARDINAL</span>\n",
       "</mark>\n",
       " after surgery and no significant difference was found between the study groups On the \n",
       "<mark class=\"entity\" style=\"background: #e4e7d2; padding: 0.45em 0.6em; margin: 0 0.25em; line-height: 1; border-radius: 0.35em;\">\n",
       "    first\n",
       "    <span style=\"font-size: 0.8em; font-weight: bold; line-height: 1; border-radius: 0.35em; vertical-align: middle; margin-left: 0.5rem\">ORDINAL</span>\n",
       "</mark>\n",
       " postoperative morning the children in the control group were in pain p = 0047 The children did not have significant nausea in the \n",
       "<mark class=\"entity\" style=\"background: #7aecec; padding: 0.45em 0.6em; margin: 0 0.25em; line-height: 1; border-radius: 0.35em;\">\n",
       "    PACU\n",
       "    <span style=\"font-size: 0.8em; font-weight: bold; line-height: 1; border-radius: 0.35em; vertical-align: middle; margin-left: 0.5rem\">ORG</span>\n",
       "</mark>\n",
       " but the nausea increased postoperatively \n",
       "<mark class=\"entity\" style=\"background: #bfe1d9; padding: 0.45em 0.6em; margin: 0 0.25em; line-height: 1; border-radius: 0.35em;\">\n",
       "    Four hours\n",
       "    <span style=\"font-size: 0.8em; font-weight: bold; line-height: 1; border-radius: 0.35em; vertical-align: middle; margin-left: 0.5rem\">TIME</span>\n",
       "</mark>\n",
       " after surgery the children were most nauseous according to all estimations \n",
       "<mark class=\"entity\" style=\"background: #e4e7d2; padding: 0.45em 0.6em; margin: 0 0.25em; line-height: 1; border-radius: 0.35em;\">\n",
       "    60 %\n",
       "    <span style=\"font-size: 0.8em; font-weight: bold; line-height: 1; border-radius: 0.35em; vertical-align: middle; margin-left: 0.5rem\">PERCENT</span>\n",
       "</mark>\n",
       " n = \n",
       "<mark class=\"entity\" style=\"background: #e4e7d2; padding: 0.45em 0.6em; margin: 0 0.25em; line-height: 1; border-radius: 0.35em;\">\n",
       "    116\n",
       "    <span style=\"font-size: 0.8em; font-weight: bold; line-height: 1; border-radius: 0.35em; vertical-align: middle; margin-left: 0.5rem\">CARDINAL</span>\n",
       "</mark>\n",
       " \n",
       "<mark class=\"entity\" style=\"background: #e4e7d2; padding: 0.45em 0.6em; margin: 0 0.25em; line-height: 1; border-radius: 0.35em;\">\n",
       "    More than half\n",
       "    <span style=\"font-size: 0.8em; font-weight: bold; line-height: 1; border-radius: 0.35em; vertical-align: middle; margin-left: 0.5rem\">CARDINAL</span>\n",
       "</mark>\n",
       " of the children vomited and most vomited clotted blood Nausea and vomiting decreased during \n",
       "<mark class=\"entity\" style=\"background: #bfe1d9; padding: 0.45em 0.6em; margin: 0 0.25em; line-height: 1; border-radius: 0.35em;\">\n",
       "    the evening\n",
       "    <span style=\"font-size: 0.8em; font-weight: bold; line-height: 1; border-radius: 0.35em; vertical-align: middle; margin-left: 0.5rem\">TIME</span>\n",
       "</mark>\n",
       " of the surgery but \n",
       "<mark class=\"entity\" style=\"background: #e4e7d2; padding: 0.45em 0.6em; margin: 0 0.25em; line-height: 1; border-radius: 0.35em;\">\n",
       "    six\n",
       "    <span style=\"font-size: 0.8em; font-weight: bold; line-height: 1; border-radius: 0.35em; vertical-align: middle; margin-left: 0.5rem\">CARDINAL</span>\n",
       "</mark>\n",
       " children vomited the next morning \n",
       "<mark class=\"entity\" style=\"background: #e4e7d2; padding: 0.45em 0.6em; margin: 0 0.25em; line-height: 1; border-radius: 0.35em;\">\n",
       "    four\n",
       "    <span style=\"font-size: 0.8em; font-weight: bold; line-height: 1; border-radius: 0.35em; vertical-align: middle; margin-left: 0.5rem\">CARDINAL</span>\n",
       "</mark>\n",
       " of them vomited blood The incidence and intensity of postoperative nausea and vomiting between the intervention and control groups were not statistically significant However preoperative nutritional counseling and more liberal per oral fluid intake appeared to have a positive effect on the children 's well-being and helped them to better tolerate postoperative nausea and vomiting The preoperative counseling about active preoperative nutrition significantly reduces the child 's pain during the \n",
       "<mark class=\"entity\" style=\"background: #e4e7d2; padding: 0.45em 0.6em; margin: 0 0.25em; line-height: 1; border-radius: 0.35em;\">\n",
       "    first\n",
       "    <span style=\"font-size: 0.8em; font-weight: bold; line-height: 1; border-radius: 0.35em; vertical-align: middle; margin-left: 0.5rem\">ORDINAL</span>\n",
       "</mark>\n",
       " posttonsillectomy hours and might prepare the child to better tolerate the stress of potential postoperative nausea and vomiting To explore the effects of GengNianLe \n",
       "<mark class=\"entity\" style=\"background: #7aecec; padding: 0.45em 0.6em; margin: 0 0.25em; line-height: 1; border-radius: 0.35em;\">\n",
       "    GNL\n",
       "    <span style=\"font-size: 0.8em; font-weight: bold; line-height: 1; border-radius: 0.35em; vertical-align: middle; margin-left: 0.5rem\">ORG</span>\n",
       "</mark>\n",
       " also called perimenopausal depression relieving formula a defined formula of \n",
       "<mark class=\"entity\" style=\"background: #c887fb; padding: 0.45em 0.6em; margin: 0 0.25em; line-height: 1; border-radius: 0.35em;\">\n",
       "    Chinese\n",
       "    <span style=\"font-size: 0.8em; font-weight: bold; line-height: 1; border-radius: 0.35em; vertical-align: middle; margin-left: 0.5rem\">NORP</span>\n",
       "</mark>\n",
       " medicinal herbs in relieving perimenopausal depression in \n",
       "<mark class=\"entity\" style=\"background: #c887fb; padding: 0.45em 0.6em; margin: 0 0.25em; line-height: 1; border-radius: 0.35em;\">\n",
       "    Chinese\n",
       "    <span style=\"font-size: 0.8em; font-weight: bold; line-height: 1; border-radius: 0.35em; vertical-align: middle; margin-left: 0.5rem\">NORP</span>\n",
       "</mark>\n",
       " women \n",
       "<mark class=\"entity\" style=\"background: #bfe1d9; padding: 0.45em 0.6em; margin: 0 0.25em; line-height: 1; border-radius: 0.35em;\">\n",
       "    Between September 2004\n",
       "    <span style=\"font-size: 0.8em; font-weight: bold; line-height: 1; border-radius: 0.35em; vertical-align: middle; margin-left: 0.5rem\">DATE</span>\n",
       "</mark>\n",
       " and \n",
       "<mark class=\"entity\" style=\"background: #bfe1d9; padding: 0.45em 0.6em; margin: 0 0.25em; line-height: 1; border-radius: 0.35em;\">\n",
       "    April 2008\n",
       "    <span style=\"font-size: 0.8em; font-weight: bold; line-height: 1; border-radius: 0.35em; vertical-align: middle; margin-left: 0.5rem\">DATE</span>\n",
       "</mark>\n",
       " \n",
       "<mark class=\"entity\" style=\"background: #bfe1d9; padding: 0.45em 0.6em; margin: 0 0.25em; line-height: 1; border-radius: 0.35em;\">\n",
       "    47\n",
       "    <span style=\"font-size: 0.8em; font-weight: bold; line-height: 1; border-radius: 0.35em; vertical-align: middle; margin-left: 0.5rem\">DATE</span>\n",
       "</mark>\n",
       " \n",
       "<mark class=\"entity\" style=\"background: #c887fb; padding: 0.45em 0.6em; margin: 0 0.25em; line-height: 1; border-radius: 0.35em;\">\n",
       "    Chinese\n",
       "    <span style=\"font-size: 0.8em; font-weight: bold; line-height: 1; border-radius: 0.35em; vertical-align: middle; margin-left: 0.5rem\">NORP</span>\n",
       "</mark>\n",
       " women were randomized into a \n",
       "<mark class=\"entity\" style=\"background: #7aecec; padding: 0.45em 0.6em; margin: 0 0.25em; line-height: 1; border-radius: 0.35em;\">\n",
       "    GNL\n",
       "    <span style=\"font-size: 0.8em; font-weight: bold; line-height: 1; border-radius: 0.35em; vertical-align: middle; margin-left: 0.5rem\">ORG</span>\n",
       "</mark>\n",
       " group n = \n",
       "<mark class=\"entity\" style=\"background: #e4e7d2; padding: 0.45em 0.6em; margin: 0 0.25em; line-height: 1; border-radius: 0.35em;\">\n",
       "    21\n",
       "    <span style=\"font-size: 0.8em; font-weight: bold; line-height: 1; border-radius: 0.35em; vertical-align: middle; margin-left: 0.5rem\">CARDINAL</span>\n",
       "</mark>\n",
       " and a control group which received tibolone n = \n",
       "<mark class=\"entity\" style=\"background: #e4e7d2; padding: 0.45em 0.6em; margin: 0 0.25em; line-height: 1; border-radius: 0.35em;\">\n",
       "    26\n",
       "    <span style=\"font-size: 0.8em; font-weight: bold; line-height: 1; border-radius: 0.35em; vertical-align: middle; margin-left: 0.5rem\">CARDINAL</span>\n",
       "</mark>\n",
       " using a randomization chart Depression was rated with the \n",
       "<mark class=\"entity\" style=\"background: #e4e7d2; padding: 0.45em 0.6em; margin: 0 0.25em; line-height: 1; border-radius: 0.35em;\">\n",
       "    24\n",
       "    <span style=\"font-size: 0.8em; font-weight: bold; line-height: 1; border-radius: 0.35em; vertical-align: middle; margin-left: 0.5rem\">CARDINAL</span>\n",
       "</mark>\n",
       "-item \n",
       "<mark class=\"entity\" style=\"background: #aa9cfc; padding: 0.45em 0.6em; margin: 0 0.25em; line-height: 1; border-radius: 0.35em;\">\n",
       "    Hamilton\n",
       "    <span style=\"font-size: 0.8em; font-weight: bold; line-height: 1; border-radius: 0.35em; vertical-align: middle; margin-left: 0.5rem\">PERSON</span>\n",
       "</mark>\n",
       " Depression \n",
       "<mark class=\"entity\" style=\"background: #aa9cfc; padding: 0.45em 0.6em; margin: 0 0.25em; line-height: 1; border-radius: 0.35em;\">\n",
       "    Scale HAMD\n",
       "    <span style=\"font-size: 0.8em; font-weight: bold; line-height: 1; border-radius: 0.35em; vertical-align: middle; margin-left: 0.5rem\">PERSON</span>\n",
       "</mark>\n",
       " The serum levels of follicle stimulating hormone \n",
       "<mark class=\"entity\" style=\"background: #7aecec; padding: 0.45em 0.6em; margin: 0 0.25em; line-height: 1; border-radius: 0.35em;\">\n",
       "    FSH\n",
       "    <span style=\"font-size: 0.8em; font-weight: bold; line-height: 1; border-radius: 0.35em; vertical-align: middle; margin-left: 0.5rem\">ORG</span>\n",
       "</mark>\n",
       " luteinizing hormone LH and estradiol E \n",
       "<mark class=\"entity\" style=\"background: #e4e7d2; padding: 0.45em 0.6em; margin: 0 0.25em; line-height: 1; border-radius: 0.35em;\">\n",
       "    2\n",
       "    <span style=\"font-size: 0.8em; font-weight: bold; line-height: 1; border-radius: 0.35em; vertical-align: middle; margin-left: 0.5rem\">CARDINAL</span>\n",
       "</mark>\n",
       " were detected before and after the treatment After \n",
       "<mark class=\"entity\" style=\"background: #bfe1d9; padding: 0.45em 0.6em; margin: 0 0.25em; line-height: 1; border-radius: 0.35em;\">\n",
       "    12 weeks\n",
       "    <span style=\"font-size: 0.8em; font-weight: bold; line-height: 1; border-radius: 0.35em; vertical-align: middle; margin-left: 0.5rem\">DATE</span>\n",
       "</mark>\n",
       " of treatment \n",
       "<mark class=\"entity\" style=\"background: #7aecec; padding: 0.45em 0.6em; margin: 0 0.25em; line-height: 1; border-radius: 0.35em;\">\n",
       "    HAMD\n",
       "    <span style=\"font-size: 0.8em; font-weight: bold; line-height: 1; border-radius: 0.35em; vertical-align: middle; margin-left: 0.5rem\">ORG</span>\n",
       "</mark>\n",
       " scores in both groups decreased significantly p &lt; 005 with no significant difference between the groups p &gt; \n",
       "<mark class=\"entity\" style=\"background: #e4e7d2; padding: 0.45em 0.6em; margin: 0 0.25em; line-height: 1; border-radius: 0.35em;\">\n",
       "    005\n",
       "    <span style=\"font-size: 0.8em; font-weight: bold; line-height: 1; border-radius: 0.35em; vertical-align: middle; margin-left: 0.5rem\">CARDINAL</span>\n",
       "</mark>\n",
       " The levels of \n",
       "<mark class=\"entity\" style=\"background: #7aecec; padding: 0.45em 0.6em; margin: 0 0.25em; line-height: 1; border-radius: 0.35em;\">\n",
       "    FSH\n",
       "    <span style=\"font-size: 0.8em; font-weight: bold; line-height: 1; border-radius: 0.35em; vertical-align: middle; margin-left: 0.5rem\">ORG</span>\n",
       "</mark>\n",
       " decreased significantly and the level of E \n",
       "<mark class=\"entity\" style=\"background: #e4e7d2; padding: 0.45em 0.6em; margin: 0 0.25em; line-height: 1; border-radius: 0.35em;\">\n",
       "    2\n",
       "    <span style=\"font-size: 0.8em; font-weight: bold; line-height: 1; border-radius: 0.35em; vertical-align: middle; margin-left: 0.5rem\">CARDINAL</span>\n",
       "</mark>\n",
       " increased significantly in both groups and they changed more in the control group No side-effect of treatment was reported in either group during treatment The \n",
       "<mark class=\"entity\" style=\"background: #c887fb; padding: 0.45em 0.6em; margin: 0 0.25em; line-height: 1; border-radius: 0.35em;\">\n",
       "    Chinese\n",
       "    <span style=\"font-size: 0.8em; font-weight: bold; line-height: 1; border-radius: 0.35em; vertical-align: middle; margin-left: 0.5rem\">NORP</span>\n",
       "</mark>\n",
       " medicinal formula \n",
       "<mark class=\"entity\" style=\"background: #7aecec; padding: 0.45em 0.6em; margin: 0 0.25em; line-height: 1; border-radius: 0.35em;\">\n",
       "    GNL\n",
       "    <span style=\"font-size: 0.8em; font-weight: bold; line-height: 1; border-radius: 0.35em; vertical-align: middle; margin-left: 0.5rem\">ORG</span>\n",
       "</mark>\n",
       " showed promise in relieving perimenopausal depression and merits further study Topical formulations of nonsteroidal anti-inflammatory drugs NSAIDs are generally considered to be safer alternatives to oral \n",
       "<mark class=\"entity\" style=\"background: #7aecec; padding: 0.45em 0.6em; margin: 0 0.25em; line-height: 1; border-radius: 0.35em;\">\n",
       "    NSAIDs\n",
       "    <span style=\"font-size: 0.8em; font-weight: bold; line-height: 1; border-radius: 0.35em; vertical-align: middle; margin-left: 0.5rem\">ORG</span>\n",
       "</mark>\n",
       " due to lower systemic absorption We conducted randomized crossover studies that compared the pharmacokinetics PK bioequivalence and safety of topical diclofenac sodium \n",
       "<mark class=\"entity\" style=\"background: #e4e7d2; padding: 0.45em 0.6em; margin: 0 0.25em; line-height: 1; border-radius: 0.35em;\">\n",
       "    2 %\n",
       "    <span style=\"font-size: 0.8em; font-weight: bold; line-height: 1; border-radius: 0.35em; vertical-align: middle; margin-left: 0.5rem\">PERCENT</span>\n",
       "</mark>\n",
       " twice \n",
       "<mark class=\"entity\" style=\"background: #bfe1d9; padding: 0.45em 0.6em; margin: 0 0.25em; line-height: 1; border-radius: 0.35em;\">\n",
       "    daily\n",
       "    <span style=\"font-size: 0.8em; font-weight: bold; line-height: 1; border-radius: 0.35em; vertical-align: middle; margin-left: 0.5rem\">DATE</span>\n",
       "</mark>\n",
       " \n",
       "<mark class=\"entity\" style=\"background: #7aecec; padding: 0.45em 0.6em; margin: 0 0.25em; line-height: 1; border-radius: 0.35em;\">\n",
       "    BID\n",
       "    <span style=\"font-size: 0.8em; font-weight: bold; line-height: 1; border-radius: 0.35em; vertical-align: middle; margin-left: 0.5rem\">ORG</span>\n",
       "</mark>\n",
       " diclofenac sodium \n",
       "<mark class=\"entity\" style=\"background: #e4e7d2; padding: 0.45em 0.6em; margin: 0 0.25em; line-height: 1; border-radius: 0.35em;\">\n",
       "    15 %\n",
       "    <span style=\"font-size: 0.8em; font-weight: bold; line-height: 1; border-radius: 0.35em; vertical-align: middle; margin-left: 0.5rem\">PERCENT</span>\n",
       "</mark>\n",
       " \n",
       "<mark class=\"entity\" style=\"background: #e4e7d2; padding: 0.45em 0.6em; margin: 0 0.25em; line-height: 1; border-radius: 0.35em;\">\n",
       "    four\n",
       "    <span style=\"font-size: 0.8em; font-weight: bold; line-height: 1; border-radius: 0.35em; vertical-align: middle; margin-left: 0.5rem\">CARDINAL</span>\n",
       "</mark>\n",
       " times \n",
       "<mark class=\"entity\" style=\"background: #bfe1d9; padding: 0.45em 0.6em; margin: 0 0.25em; line-height: 1; border-radius: 0.35em;\">\n",
       "    daily\n",
       "    <span style=\"font-size: 0.8em; font-weight: bold; line-height: 1; border-radius: 0.35em; vertical-align: middle; margin-left: 0.5rem\">DATE</span>\n",
       "</mark>\n",
       " QID and oral diclofenac sodium in healthy subjects The results of \n",
       "<mark class=\"entity\" style=\"background: #e4e7d2; padding: 0.45em 0.6em; margin: 0 0.25em; line-height: 1; border-radius: 0.35em;\">\n",
       "    three\n",
       "    <span style=\"font-size: 0.8em; font-weight: bold; line-height: 1; border-radius: 0.35em; vertical-align: middle; margin-left: 0.5rem\">CARDINAL</span>\n",
       "</mark>\n",
       " bioequivalence studies are reviewed</div></span>"
      ],
      "text/plain": [
       "<IPython.core.display.HTML object>"
      ]
     },
     "metadata": {},
     "output_type": "display_data"
    }
   ],
   "source": [
    "displacy.render(text1,style=\"ent\",jupyter=True)"
   ]
  },
  {
   "cell_type": "code",
   "execution_count": 67,
   "id": "32f779ed-ca92-4b1b-90fa-707442484880",
   "metadata": {},
   "outputs": [],
   "source": [
    "import joblib\n",
    "import re\n",
    "import string\n",
    "\n",
    "import numpy as np\n",
    "import pandas as pd\n",
    "\n",
    "from sklearn.datasets import fetch_20newsgroups\n",
    "from sklearn.feature_extraction.text import CountVectorizer\n",
    "from sklearn.metrics import accuracy_score, cohen_kappa_score, f1_score, classification_report\n",
    "from sklearn.model_selection import StratifiedKFold, train_test_split\n",
    "from sklearn.naive_bayes import MultinomialNB"
   ]
  },
  {
   "cell_type": "code",
   "execution_count": 68,
   "id": "8cf83e4a-91d0-462d-a749-aaab3ab814ec",
   "metadata": {},
   "outputs": [],
   "source": [
    "categories = [\n",
    "    \"BACKGROUND\",\n",
    "    \"OBJECTIVE\",\n",
    "    \"METHODS\",\n",
    "    \"RESULTS\",\n",
    "    \"CONCLUSION\",\n",
    "]\n",
    "\n",
    "test_data_sample = test_data.iloc[0:7000]\n",
    "train_data_sample = train_data.iloc[0:3000]\n",
    "\n",
    "\n",
    "group_data = train_data_sample\n",
    "\n",
    "\n"
   ]
  },
  {
   "cell_type": "code",
   "execution_count": 69,
   "id": "327df3ba-763b-4190-b648-fffc85e77221",
   "metadata": {},
   "outputs": [],
   "source": [
    "train_df = pd.DataFrame(\n",
    "    dict(\n",
    "        text= group_data[\"text\"],\n",
    "        target= group_data[\"category\"]\n",
    "    )\n",
    ")\n",
    "\n",
    "\n",
    "test_df = pd.DataFrame(\n",
    "    dict(\n",
    "        text= test_data_sample[\"text\"],\n",
    "        target= test_data_sample[\"category\"]\n",
    "    )\n",
    ")"
   ]
  },
  {
   "cell_type": "code",
   "execution_count": 70,
   "id": "ca58b07c-f334-4446-9f3f-97a3ed74db7e",
   "metadata": {},
   "outputs": [],
   "source": [
    "vec = CountVectorizer(\n",
    "    ngram_range=(1, 3), \n",
    "    stop_words=\"english\",\n",
    ")\n",
    "\n",
    "X_train = vec.fit_transform(train_df.text)\n",
    "X_test = vec.transform(test_df.text)\n",
    "\n",
    "y_train = train_df.target\n",
    "y_test = test_df.target"
   ]
  },
  {
   "cell_type": "code",
   "execution_count": 71,
   "id": "52e3f291-1181-402a-8b3a-7eef7120fa57",
   "metadata": {},
   "outputs": [
    {
     "name": "stdout",
     "output_type": "stream",
     "text": [
      "              precision    recall  f1-score   support\n",
      "\n",
      "  BACKGROUND       0.55      0.10      0.17       624\n",
      " CONCLUSIONS       0.56      0.40      0.47      1043\n",
      "     METHODS       0.64      0.84      0.73      2311\n",
      "   OBJECTIVE       0.68      0.18      0.28       550\n",
      "     RESULTS       0.72      0.85      0.78      2472\n",
      "\n",
      "    accuracy                           0.66      7000\n",
      "   macro avg       0.63      0.48      0.49      7000\n",
      "weighted avg       0.65      0.66      0.62      7000\n",
      "\n"
     ]
    }
   ],
   "source": [
    "nb = MultinomialNB()\n",
    "nb.fit(X_train, y_train)\n",
    "\n",
    "preds = nb.predict(X_test)\n",
    "print(classification_report(y_test, preds))"
   ]
  },
  {
   "cell_type": "code",
   "execution_count": 72,
   "id": "88b821ed-7e43-4c76-9811-f499cb7fdb00",
   "metadata": {},
   "outputs": [
    {
     "data": {
      "text/plain": [
       "(3000, 2284)"
      ]
     },
     "execution_count": 72,
     "metadata": {},
     "output_type": "execute_result"
    }
   ],
   "source": [
    "from sklearn.feature_extraction.text import TfidfVectorizer\n",
    "\n",
    "tfidf = TfidfVectorizer(sublinear_tf=True, min_df=5, norm='l2', encoding='latin-1', ngram_range=(1, 2), stop_words='english')\n",
    "\n",
    "features = tfidf.fit_transform(train_data_sample.text).toarray()\n",
    "labels = train_data_sample.category\n",
    "features.shape"
   ]
  },
  {
   "cell_type": "code",
   "execution_count": 73,
   "id": "6e12c43d-200d-4b0a-b390-18e45067f9e3",
   "metadata": {},
   "outputs": [],
   "source": [
    "from sklearn.linear_model import LogisticRegression\n",
    "from sklearn.ensemble import RandomForestClassifier\n",
    "from sklearn.naive_bayes import MultinomialNB\n",
    "from sklearn.svm import LinearSVC\n",
    "\n",
    "from sklearn.model_selection import cross_val_score\n",
    "\n",
    "\n",
    "models = [\n",
    "    RandomForestClassifier(n_estimators=200, max_depth=3, random_state=0),\n",
    "    LinearSVC(),\n",
    "    MultinomialNB(),\n",
    "    LogisticRegression(random_state=0),\n",
    "]\n",
    "\n",
    "\n",
    "CV = 5\n",
    "\n",
    "\n",
    "cv_df = pd.DataFrame(index=range(CV * len(models)))\n",
    "\n",
    "\n",
    "entries = []\n",
    "\n",
    "\n",
    "for model in models:\n",
    "    model_name = model.__class__.__name__\n",
    "    accuracies = cross_val_score(model, features, labels, scoring='accuracy', cv=CV)\n",
    "    for fold_idx, accuracy in enumerate(accuracies):\n",
    "        entries.append((model_name, fold_idx, accuracy))\n",
    "    \n",
    "    \n",
    "cv_df = pd.DataFrame(entries, columns=['model_name', 'fold_idx', 'accuracy'])"
   ]
  },
  {
   "cell_type": "code",
   "execution_count": 74,
   "id": "ce7bb0a8-8175-4e2d-88d7-48e4b17ac76d",
   "metadata": {},
   "outputs": [
    {
     "data": {
      "image/png": "[encoded data removed]",
      "text/plain": [
       "<Figure size 432x288 with 1 Axes>"
      ]
     },
     "metadata": {
      "needs_background": "light"
     },
     "output_type": "display_data"
    }
   ],
   "source": [
    "import seaborn as sns\n",
    "\n",
    "sns.boxplot(x='model_name', y='accuracy', data=cv_df)\n",
    "sns.stripplot(x='model_name', y='accuracy', data=cv_df, \n",
    "              size=8, jitter=True, edgecolor=\"gray\", linewidth=2)\n",
    "plt.show()"
   ]
  },
  {
   "cell_type": "code",
   "execution_count": 75,
   "id": "e0b15a5d-7f4e-4554-a4ea-2de76f585b31",
   "metadata": {},
   "outputs": [
    {
     "data": {
      "text/plain": [
       "model_name\n",
       "LinearSVC                 0.661667\n",
       "LogisticRegression        0.654333\n",
       "MultinomialNB             0.644000\n",
       "RandomForestClassifier    0.532333\n",
       "Name: accuracy, dtype: float64"
      ]
     },
     "execution_count": 75,
     "metadata": {},
     "output_type": "execute_result"
    }
   ],
   "source": [
    "cv_df.groupby('model_name').accuracy.mean()"
   ]
  },
  {
   "cell_type": "code",
   "execution_count": 76,
   "id": "b0e37b19-c018-426b-b793-a824c9d31c5d",
   "metadata": {},
   "outputs": [],
   "source": [
    "model = LinearSVC()\n",
    "\n",
    "X_train = vec.fit_transform(train_df.text)\n",
    "X_test = vec.transform(test_df.text)\n",
    "\n",
    "y_train = train_df.target\n",
    "y_test = test_df.target\n",
    "\n",
    "\n",
    "model.fit(X_train, y_train)\n",
    "y_pred = model.predict(X_test)"
   ]
  },
  {
   "cell_type": "code",
   "execution_count": 77,
   "id": "57663842-1c46-4fbb-a32b-2a5591c556aa",
   "metadata": {},
   "outputs": [
    {
     "name": "stdout",
     "output_type": "stream",
     "text": [
      "              precision    recall  f1-score   support\n",
      "\n",
      "  BACKGROUND       0.50      0.17      0.25       624\n",
      " CONCLUSIONS       0.55      0.44      0.49      1043\n",
      "     METHODS       0.66      0.86      0.75      2311\n",
      "   OBJECTIVE       0.70      0.39      0.50       550\n",
      "     RESULTS       0.73      0.79      0.76      2472\n",
      "\n",
      "    accuracy                           0.67      7000\n",
      "   macro avg       0.63      0.53      0.55      7000\n",
      "weighted avg       0.66      0.67      0.65      7000\n",
      "\n"
     ]
    }
   ],
   "source": [
    "print(classification_report(y_test, y_pred))"
   ]
  },
  {
   "cell_type": "code",
   "execution_count": null,
   "id": "eff25344-9d27-4cd3-bbae-a3643cc44d98",
   "metadata": {},
   "outputs": [],
   "source": []
  }
 ],
 "metadata": {
  "kernelspec": {
   "display_name": "Python 3 (ipykernel)",
   "language": "python",
   "name": "python3"
  },
  "language_info": {
   "codemirror_mode": {
    "name": "ipython",
    "version": 3
   },
   "file_extension": ".py",
   "mimetype": "text/x-python",
   "name": "python",
   "nbconvert_exporter": "python",
   "pygments_lexer": "ipython3",
   "version": "3.9.12"
  }
 },
 "nbformat": 4,
 "nbformat_minor": 5
}
